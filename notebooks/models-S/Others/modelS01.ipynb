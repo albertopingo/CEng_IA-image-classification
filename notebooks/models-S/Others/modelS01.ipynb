{
 "cells": [
  {
   "cell_type": "markdown",
   "metadata": {},
   "source": [
    "# **Model_S 01** - No data augmentation\n",
    "Name: `Alberto Pingo` \\\n",
    "Email: `2202145`@my.ipleiria.pt \n",
    "\n",
    "Validation dataset: `train5` "
   ]
  },
  {
   "cell_type": "markdown",
   "metadata": {},
   "source": [
    "## Directories\n",
    "This section sets up the directory paths used for training, validation, and test datasets based on the repository structure."
   ]
  },
  {
   "cell_type": "code",
   "execution_count": 1,
   "metadata": {},
   "outputs": [
    {
     "name": "stdout",
     "output_type": "stream",
     "text": [
      "/home/pws/code/IA-image-classification/notebooks/models-S\n",
      "/home/pws/code/IA-image-classification/data\n",
      "/home/pws/code/IA-image-classification/data/test\n",
      "/home/pws/code/IA-image-classification/data/train\n",
      "/home/pws/code/IA-image-classification/data/train/train5\n"
     ]
    }
   ],
   "source": [
    "import os\n",
    "\n",
    "current_dir = os.getcwd()\n",
    "\n",
    "# TWO FOLDERS UP\n",
    "data_dir = os.path.abspath(os.path.join(current_dir, os.pardir, os.pardir, 'data'))\n",
    "test_dir = os.path.join(data_dir, 'test')\n",
    "train_dir = os.path.join(data_dir, 'train')\n",
    "\n",
    "train_dirs = []\n",
    "for i in range(1, 5):\n",
    "    train_dirs.append(os.path.join(train_dir, 'train' + str(i)))\n",
    "\n",
    "\n",
    "validation_dir = os.path.join(data_dir, 'train', 'train5')\n",
    "\n",
    "print(current_dir)\n",
    "print(data_dir)\n",
    "print(test_dir)\n",
    "print(train_dir)\n",
    "print(validation_dir)"
   ]
  },
  {
   "cell_type": "markdown",
   "metadata": {},
   "source": [
    "## Preprocessing\n",
    "Load the datasets and perform initial preprocessing. Images are resized to 32x32 pixels and batched."
   ]
  },
  {
   "cell_type": "code",
   "execution_count": 2,
   "metadata": {},
   "outputs": [
    {
     "name": "stderr",
     "output_type": "stream",
     "text": [
      "2024-06-21 00:32:41.898429: E external/local_xla/xla/stream_executor/cuda/cuda_dnn.cc:9261] Unable to register cuDNN factory: Attempting to register factory for plugin cuDNN when one has already been registered\n",
      "2024-06-21 00:32:41.898462: E external/local_xla/xla/stream_executor/cuda/cuda_fft.cc:607] Unable to register cuFFT factory: Attempting to register factory for plugin cuFFT when one has already been registered\n",
      "2024-06-21 00:32:41.899527: E external/local_xla/xla/stream_executor/cuda/cuda_blas.cc:1515] Unable to register cuBLAS factory: Attempting to register factory for plugin cuBLAS when one has already been registered\n",
      "2024-06-21 00:32:41.905593: I tensorflow/core/platform/cpu_feature_guard.cc:182] This TensorFlow binary is optimized to use available CPU instructions in performance-critical operations.\n",
      "To enable the following instructions: AVX2 FMA, in other operations, rebuild TensorFlow with the appropriate compiler flags.\n",
      "2024-06-21 00:32:42.622037: W tensorflow/compiler/tf2tensorrt/utils/py_utils.cc:38] TF-TRT Warning: Could not find TensorRT\n"
     ]
    },
    {
     "name": "stdout",
     "output_type": "stream",
     "text": [
      "Found 10000 files belonging to 10 classes.\n"
     ]
    },
    {
     "name": "stderr",
     "output_type": "stream",
     "text": [
      "2024-06-21 00:32:43.499328: I external/local_xla/xla/stream_executor/cuda/cuda_executor.cc:901] successful NUMA node read from SysFS had negative value (-1), but there must be at least one NUMA node, so returning NUMA node zero. See more at https://github.com/torvalds/linux/blob/v6.0/Documentation/ABI/testing/sysfs-bus-pci#L344-L355\n",
      "2024-06-21 00:32:43.531573: I external/local_xla/xla/stream_executor/cuda/cuda_executor.cc:901] successful NUMA node read from SysFS had negative value (-1), but there must be at least one NUMA node, so returning NUMA node zero. See more at https://github.com/torvalds/linux/blob/v6.0/Documentation/ABI/testing/sysfs-bus-pci#L344-L355\n",
      "2024-06-21 00:32:43.531748: I external/local_xla/xla/stream_executor/cuda/cuda_executor.cc:901] successful NUMA node read from SysFS had negative value (-1), but there must be at least one NUMA node, so returning NUMA node zero. See more at https://github.com/torvalds/linux/blob/v6.0/Documentation/ABI/testing/sysfs-bus-pci#L344-L355\n",
      "2024-06-21 00:32:43.532246: I external/local_xla/xla/stream_executor/cuda/cuda_executor.cc:901] successful NUMA node read from SysFS had negative value (-1), but there must be at least one NUMA node, so returning NUMA node zero. See more at https://github.com/torvalds/linux/blob/v6.0/Documentation/ABI/testing/sysfs-bus-pci#L344-L355\n",
      "2024-06-21 00:32:43.532370: I external/local_xla/xla/stream_executor/cuda/cuda_executor.cc:901] successful NUMA node read from SysFS had negative value (-1), but there must be at least one NUMA node, so returning NUMA node zero. See more at https://github.com/torvalds/linux/blob/v6.0/Documentation/ABI/testing/sysfs-bus-pci#L344-L355\n",
      "2024-06-21 00:32:43.532484: I external/local_xla/xla/stream_executor/cuda/cuda_executor.cc:901] successful NUMA node read from SysFS had negative value (-1), but there must be at least one NUMA node, so returning NUMA node zero. See more at https://github.com/torvalds/linux/blob/v6.0/Documentation/ABI/testing/sysfs-bus-pci#L344-L355\n",
      "2024-06-21 00:32:43.594155: I external/local_xla/xla/stream_executor/cuda/cuda_executor.cc:901] successful NUMA node read from SysFS had negative value (-1), but there must be at least one NUMA node, so returning NUMA node zero. See more at https://github.com/torvalds/linux/blob/v6.0/Documentation/ABI/testing/sysfs-bus-pci#L344-L355\n",
      "2024-06-21 00:32:43.594350: I external/local_xla/xla/stream_executor/cuda/cuda_executor.cc:901] successful NUMA node read from SysFS had negative value (-1), but there must be at least one NUMA node, so returning NUMA node zero. See more at https://github.com/torvalds/linux/blob/v6.0/Documentation/ABI/testing/sysfs-bus-pci#L344-L355\n",
      "2024-06-21 00:32:43.594506: I external/local_xla/xla/stream_executor/cuda/cuda_executor.cc:901] successful NUMA node read from SysFS had negative value (-1), but there must be at least one NUMA node, so returning NUMA node zero. See more at https://github.com/torvalds/linux/blob/v6.0/Documentation/ABI/testing/sysfs-bus-pci#L344-L355\n",
      "2024-06-21 00:32:43.594602: I tensorflow/core/common_runtime/gpu/gpu_device.cc:1929] Created device /job:localhost/replica:0/task:0/device:GPU:0 with 258 MB memory:  -> device: 0, name: NVIDIA GeForce GTX 1060 6GB, pci bus id: 0000:01:00.0, compute capability: 6.1\n"
     ]
    },
    {
     "name": "stdout",
     "output_type": "stream",
     "text": [
      "Found 10000 files belonging to 10 classes.\n",
      "Found 10000 files belonging to 10 classes.\n",
      "Found 10000 files belonging to 10 classes.\n",
      "Found 10000 files belonging to 10 classes.\n",
      "Found 10000 files belonging to 10 classes.\n"
     ]
    }
   ],
   "source": [
    "\n",
    "from keras.utils import image_dataset_from_directory\n",
    "import tensorflow as tf\n",
    "\n",
    "# Load training datasets from train1 to train4\n",
    "train_datasets = []\n",
    "IMG_SIZE = 32\n",
    "BATCH_SIZE = 64\n",
    "for i in range(1, 5):\n",
    "    dataset = image_dataset_from_directory(train_dirs[i-1], image_size=(IMG_SIZE, IMG_SIZE), batch_size=BATCH_SIZE, label_mode='categorical')\n",
    "    train_datasets.append(dataset)\n",
    " \n",
    "train_dataset = train_datasets[0]\n",
    "for dataset in train_datasets[1:]:\n",
    "    train_dataset = train_dataset.concatenate(dataset)\n",
    "\n",
    "# Load validation dataset\n",
    "validation_dataset = image_dataset_from_directory(validation_dir, image_size=(IMG_SIZE, IMG_SIZE), batch_size=BATCH_SIZE, label_mode='categorical')\n",
    "\n",
    "\n",
    "# Load test dataset\n",
    "test_dataset = image_dataset_from_directory(test_dir, image_size=(IMG_SIZE, IMG_SIZE), batch_size=BATCH_SIZE, label_mode='categorical')"
   ]
  },
  {
   "cell_type": "code",
   "execution_count": 3,
   "metadata": {},
   "outputs": [],
   "source": [
    "# import matplotlib.pyplot as plt\n",
    "\n",
    "# for data, _ in train_dataset.take(1):\n",
    "#     for i in range(9):\n",
    "#         plt.imshow(data[i].numpy().astype('uint8'))\n",
    "#         plt.show()\n",
    "#     break"
   ]
  },
  {
   "cell_type": "markdown",
   "metadata": {},
   "source": [
    "# **MODEL ARCHITECTURE**"
   ]
  },
  {
   "cell_type": "markdown",
   "metadata": {},
   "source": [
    "## Build a Convolutional Neural Network (CNN) model."
   ]
  },
  {
   "cell_type": "markdown",
   "metadata": {},
   "source": [
    "1. **Input Layer**\n",
    "   - The input layer expects images of size 32x32 pixels with 3 color channels (RGB).\n",
    "\n",
    "2. **Rescaling Layer**\n",
    "   - Rescales the pixel values from the range [0, 255] to [0, 1].\n",
    "\n",
    "3. **Convolutional Layers**\n",
    "   - The model consists of 3 convolutional layers with 32, 64, and 128 filters, respectively.\n",
    "   - The weight are initialized using the `he_normal` initializer.\n",
    "   \n",
    "4. **Max Pooling Layers**\n",
    "   - Max pooling layers are used after each convolutional layer to reduce the spatial dimensions of the feature maps.\n",
    "   - A pooling size of 2x2 with a stride of 2 is used.\n",
    "\n",
    "5. **Dense Layer** \n",
    "   - The model has a dense layer with 256 units and ReLU activation function.\n",
    "   - The purpose of this layer is to learn the complex patterns in the data.\n",
    "\n",
    "6. **Output Layer**\n",
    "   - The output layer consists of 10 units (one for each class) with a softmax activation function.\n",
    "   - The softmax function outputs the probability distribution over the classes.\n",
    "\n",
    "**Overfitting measures**\n",
    "   - Dropout layers are used after each Convolutional and Dense layer to prevent overfitting.\n",
    "   - Kernel Regularization is used to prevent overfitting.\n",
    "\n",
    "**Batch Normalization**\n",
    "   - Batch normalization is used after each Convolutional and Dense layer to normalize the activations of the previous layer at each batch.\n",
    "   - This helps to stabilize and speed up the training process."
   ]
  },
  {
   "cell_type": "code",
   "execution_count": 4,
   "metadata": {},
   "outputs": [
    {
     "name": "stdout",
     "output_type": "stream",
     "text": [
      "Model: \"model\"\n",
      "_________________________________________________________________\n",
      " Layer (type)                Output Shape              Param #   \n",
      "=================================================================\n",
      " input_1 (InputLayer)        [(None, 32, 32, 3)]       0         \n",
      "                                                                 \n",
      " rescaling (Rescaling)       (None, 32, 32, 3)         0         \n",
      "                                                                 \n",
      " conv2d (Conv2D)             (None, 30, 30, 32)        896       \n",
      "                                                                 \n",
      " batch_normalization (Batch  (None, 30, 30, 32)        128       \n",
      " Normalization)                                                  \n",
      "                                                                 \n",
      " dropout (Dropout)           (None, 30, 30, 32)        0         \n",
      "                                                                 \n",
      " conv2d_1 (Conv2D)           (None, 28, 28, 64)        18496     \n",
      "                                                                 \n",
      " batch_normalization_1 (Bat  (None, 28, 28, 64)        256       \n",
      " chNormalization)                                                \n",
      "                                                                 \n",
      " max_pooling2d (MaxPooling2  (None, 14, 14, 64)        0         \n",
      " D)                                                              \n",
      "                                                                 \n",
      " dropout_1 (Dropout)         (None, 14, 14, 64)        0         \n",
      "                                                                 \n",
      " conv2d_2 (Conv2D)           (None, 12, 12, 128)       73856     \n",
      "                                                                 \n",
      " batch_normalization_2 (Bat  (None, 12, 12, 128)       512       \n",
      " chNormalization)                                                \n",
      "                                                                 \n",
      " dropout_2 (Dropout)         (None, 12, 12, 128)       0         \n",
      "                                                                 \n",
      " conv2d_3 (Conv2D)           (None, 10, 10, 256)       295168    \n",
      "                                                                 \n",
      " batch_normalization_3 (Bat  (None, 10, 10, 256)       1024      \n",
      " chNormalization)                                                \n",
      "                                                                 \n",
      " max_pooling2d_1 (MaxPoolin  (None, 5, 5, 256)         0         \n",
      " g2D)                                                            \n",
      "                                                                 \n",
      " dropout_3 (Dropout)         (None, 5, 5, 256)         0         \n",
      "                                                                 \n",
      " flatten (Flatten)           (None, 6400)              0         \n",
      "                                                                 \n",
      " dense (Dense)               (None, 256)               1638656   \n",
      "                                                                 \n",
      " dense_1 (Dense)             (None, 128)               32896     \n",
      "                                                                 \n",
      " dropout_4 (Dropout)         (None, 128)               0         \n",
      "                                                                 \n",
      " dense_2 (Dense)             (None, 10)                1290      \n",
      "                                                                 \n",
      "=================================================================\n",
      "Total params: 2063178 (7.87 MB)\n",
      "Trainable params: 2062218 (7.87 MB)\n",
      "Non-trainable params: 960 (3.75 KB)\n",
      "_________________________________________________________________\n"
     ]
    }
   ],
   "source": [
    "\n",
    "from tensorflow import keras\n",
    "from keras import layers, models, regularizers\n",
    "\n",
    "inputs = keras.Input(shape=(IMG_SIZE, IMG_SIZE, 3))\n",
    "\n",
    "x = layers.Rescaling(1./255)(inputs)\n",
    "\n",
    "x = layers.Conv2D(filters=32, kernel_size=3, kernel_initializer='he_normal', activation=\"relu\", kernel_regularizer=regularizers.l2(0.001))(x)\n",
    "x = layers.BatchNormalization()(x)\n",
    "x = layers.Dropout(0.3)(x)\n",
    "\n",
    "x = layers.Conv2D(filters=64, kernel_size=3, kernel_initializer='he_normal', activation=\"relu\", kernel_regularizer=regularizers.l2(0.001))(x)\n",
    "x = layers.BatchNormalization()(x)\n",
    "x = layers.MaxPooling2D(pool_size=2)(x)\n",
    "x = layers.Dropout(0.3)(x)\n",
    "\n",
    "x = layers.Conv2D(filters=128, kernel_size=3, kernel_initializer='he_normal', activation=\"relu\", kernel_regularizer=regularizers.l2(0.001))(x)\n",
    "x = layers.BatchNormalization()(x)\n",
    "x = layers.Dropout(0.3)(x)\n",
    "\n",
    "x = layers.Conv2D(filters=64, kernel_size=3, kernel_initializer='he_normal', activation=\"relu\", kernel_regularizer=regularizers.l2(0.001))(x)\n",
    "x = layers.BatchNormalization()(x)\n",
    "x = layers.MaxPooling2D(pool_size=2)(x)\n",
    "x = layers.Dropout(0.3)(x)\n",
    "\n",
    "x = layers.Flatten()(x)\n",
    "x = layers.Dense(256, kernel_initializer='he_normal', activation=\"relu\", kernel_regularizer=regularizers.l2(0.001))(x)\n",
    "x = layers.Dense(128, kernel_initializer='he_normal', activation=\"relu\", kernel_regularizer=regularizers.l2(0.001))(x)\n",
    "x = layers.Dropout(0.5)(x)  # Added dropout to reduce overfitting\n",
    "\n",
    "outputs = layers.Dense(10, activation=\"softmax\")(x)  # Softmax for multi-class classification\n",
    "\n",
    "model = keras.Model(inputs=inputs, outputs=outputs)\n",
    "model.summary()"
   ]
  },
  {
   "cell_type": "markdown",
   "metadata": {},
   "source": [
    "## Compile Model"
   ]
  },
  {
   "cell_type": "markdown",
   "metadata": {},
   "source": [
    "**Loss function:** \\\n",
    "We use the *Categorical Crossentropy* loss function because it is a **multi-class classification** problem.\n",
    "\n",
    "**Optimizer: Adam** \\\n",
    "We use the *Adam* optimizer because it is one of the best and most popular optimizers for neural networks."
   ]
  },
  {
   "cell_type": "code",
   "execution_count": 5,
   "metadata": {},
   "outputs": [],
   "source": [
    "model.compile(\n",
    "    loss='categorical_crossentropy',\n",
    "    optimizer='adam',\n",
    "    metrics=['acc'])"
   ]
  },
  {
   "cell_type": "markdown",
   "metadata": {},
   "source": [
    "## Train Model\n",
    "Train the model with Early stopping, Model checkpoint, and Learning rate reduction callbacks."
   ]
  },
  {
   "cell_type": "code",
   "execution_count": 6,
   "metadata": {},
   "outputs": [
    {
     "name": "stdout",
     "output_type": "stream",
     "text": [
      "Epoch 1/100\n"
     ]
    },
    {
     "name": "stderr",
     "output_type": "stream",
     "text": [
      "2024-06-21 00:32:47.093040: E tensorflow/core/grappler/optimizers/meta_optimizer.cc:961] layout failed: INVALID_ARGUMENT: Size of values 0 does not match size of permutation 4 @ fanin shape inmodel/dropout/dropout/SelectV2-2-TransposeNHWCToNCHW-LayoutOptimizer\n",
      "2024-06-21 00:32:47.304308: I external/local_xla/xla/stream_executor/cuda/cuda_dnn.cc:454] Loaded cuDNN version 8904\n",
      "2024-06-21 00:32:48.330830: W external/local_tsl/tsl/framework/bfc_allocator.cc:296] Allocator (GPU_0_bfc) ran out of memory trying to allocate 254.00MiB with freed_by_count=0. The caller indicates that this is not a failure, but this may mean that there could be performance gains if more memory were available.\n",
      "2024-06-21 00:32:48.382751: W external/local_tsl/tsl/framework/bfc_allocator.cc:296] Allocator (GPU_0_bfc) ran out of memory trying to allocate 254.00MiB with freed_by_count=0. The caller indicates that this is not a failure, but this may mean that there could be performance gains if more memory were available.\n",
      "2024-06-21 00:32:48.457638: I external/local_xla/xla/service/service.cc:168] XLA service 0x774538b43cf0 initialized for platform CUDA (this does not guarantee that XLA will be used). Devices:\n",
      "2024-06-21 00:32:48.457665: I external/local_xla/xla/service/service.cc:176]   StreamExecutor device (0): NVIDIA GeForce GTX 1060 6GB, Compute Capability 6.1\n",
      "2024-06-21 00:32:48.462708: I tensorflow/compiler/mlir/tensorflow/utils/dump_mlir_util.cc:269] disabling MLIR crash reproducer, set env var `MLIR_CRASH_REPRODUCER_DIRECTORY` to enable.\n",
      "WARNING: All log messages before absl::InitializeLog() is called are written to STDERR\n",
      "I0000 00:00:1718926368.531012   37758 device_compiler.h:186] Compiled cluster using XLA!  This line is logged at most once for the lifetime of the process.\n",
      "2024-06-21 00:32:49.128146: W external/local_tsl/tsl/framework/bfc_allocator.cc:296] Allocator (GPU_0_bfc) ran out of memory trying to allocate 125.12MiB with freed_by_count=0. The caller indicates that this is not a failure, but this may mean that there could be performance gains if more memory were available.\n",
      "2024-06-21 00:32:49.140447: W external/local_tsl/tsl/framework/bfc_allocator.cc:296] Allocator (GPU_0_bfc) ran out of memory trying to allocate 254.00MiB with freed_by_count=0. The caller indicates that this is not a failure, but this may mean that there could be performance gains if more memory were available.\n",
      "2024-06-21 00:32:49.150219: W external/local_tsl/tsl/framework/bfc_allocator.cc:296] Allocator (GPU_0_bfc) ran out of memory trying to allocate 125.12MiB with freed_by_count=0. The caller indicates that this is not a failure, but this may mean that there could be performance gains if more memory were available.\n",
      "2024-06-21 00:32:49.162288: W external/local_tsl/tsl/framework/bfc_allocator.cc:296] Allocator (GPU_0_bfc) ran out of memory trying to allocate 254.00MiB with freed_by_count=0. The caller indicates that this is not a failure, but this may mean that there could be performance gains if more memory were available.\n"
     ]
    },
    {
     "name": "stdout",
     "output_type": "stream",
     "text": [
      "628/628 [==============================] - 19s 24ms/step - loss: 3.3108 - acc: 0.2732 - val_loss: 2.6259 - val_acc: 0.4034 - lr: 0.0010\n",
      "Epoch 2/100\n",
      "  1/628 [..............................] - ETA: 37s - loss: 2.6270 - acc: 0.4375"
     ]
    },
    {
     "name": "stderr",
     "output_type": "stream",
     "text": [
      "/home/pws/miniconda3/envs/tensorflow/lib/python3.11/site-packages/keras/src/engine/training.py:3103: UserWarning: You are saving your model as an HDF5 file via `model.save()`. This file format is considered legacy. We recommend using instead the native Keras format, e.g. `model.save('my_model.keras')`.\n",
      "  saving_api.save_model(\n"
     ]
    },
    {
     "name": "stdout",
     "output_type": "stream",
     "text": [
      "628/628 [==============================] - 14s 22ms/step - loss: 2.2791 - acc: 0.4436 - val_loss: 1.8954 - val_acc: 0.5485 - lr: 0.0010\n",
      "Epoch 3/100\n",
      "628/628 [==============================] - 14s 22ms/step - loss: 1.7909 - acc: 0.5713 - val_loss: 1.7770 - val_acc: 0.5599 - lr: 0.0010\n",
      "Epoch 4/100\n",
      "628/628 [==============================] - 14s 23ms/step - loss: 1.5851 - acc: 0.6376 - val_loss: 1.4460 - val_acc: 0.6790 - lr: 0.0010\n",
      "Epoch 5/100\n",
      "628/628 [==============================] - 14s 23ms/step - loss: 1.4885 - acc: 0.6783 - val_loss: 1.4727 - val_acc: 0.6693 - lr: 0.0010\n",
      "Epoch 6/100\n",
      "628/628 [==============================] - 14s 22ms/step - loss: 1.4302 - acc: 0.7023 - val_loss: 1.4051 - val_acc: 0.7174 - lr: 0.0010\n",
      "Epoch 7/100\n",
      "628/628 [==============================] - 14s 22ms/step - loss: 1.4054 - acc: 0.7200 - val_loss: 1.4107 - val_acc: 0.7090 - lr: 0.0010\n",
      "Epoch 8/100\n",
      "628/628 [==============================] - 14s 22ms/step - loss: 1.3706 - acc: 0.7331 - val_loss: 1.4128 - val_acc: 0.7185 - lr: 0.0010\n",
      "Epoch 9/100\n",
      "628/628 [==============================] - 13s 21ms/step - loss: 1.3385 - acc: 0.7439 - val_loss: 1.4219 - val_acc: 0.7179 - lr: 0.0010\n",
      "Epoch 10/100\n",
      "628/628 [==============================] - 14s 22ms/step - loss: 1.3174 - acc: 0.7504 - val_loss: 1.3838 - val_acc: 0.7318 - lr: 0.0010\n",
      "Epoch 11/100\n",
      "628/628 [==============================] - 14s 22ms/step - loss: 1.2971 - acc: 0.7550 - val_loss: 1.3563 - val_acc: 0.7380 - lr: 0.0010\n",
      "Epoch 12/100\n",
      "628/628 [==============================] - 14s 22ms/step - loss: 1.2840 - acc: 0.7640 - val_loss: 1.2293 - val_acc: 0.7739 - lr: 0.0010\n",
      "Epoch 13/100\n",
      "628/628 [==============================] - 14s 22ms/step - loss: 1.2582 - acc: 0.7685 - val_loss: 1.2834 - val_acc: 0.7542 - lr: 0.0010\n",
      "Epoch 14/100\n",
      "628/628 [==============================] - 14s 22ms/step - loss: 1.2476 - acc: 0.7717 - val_loss: 1.2596 - val_acc: 0.7620 - lr: 0.0010\n",
      "Epoch 15/100\n",
      "627/628 [============================>.] - ETA: 0s - loss: 1.2358 - acc: 0.7750\n",
      "Epoch 15: ReduceLROnPlateau reducing learning rate to 0.0003000000142492354.\n",
      "628/628 [==============================] - 14s 22ms/step - loss: 1.2358 - acc: 0.7750 - val_loss: 1.2315 - val_acc: 0.7683 - lr: 0.0010\n",
      "Epoch 16/100\n",
      "628/628 [==============================] - 14s 22ms/step - loss: 1.0405 - acc: 0.8256 - val_loss: 1.0308 - val_acc: 0.8141 - lr: 3.0000e-04\n",
      "Epoch 17/100\n",
      "628/628 [==============================] - 14s 22ms/step - loss: 0.9287 - acc: 0.8421 - val_loss: 0.9777 - val_acc: 0.8207 - lr: 3.0000e-04\n",
      "Epoch 18/100\n",
      "628/628 [==============================] - 14s 23ms/step - loss: 0.8652 - acc: 0.8526 - val_loss: 0.9483 - val_acc: 0.8229 - lr: 3.0000e-04\n",
      "Epoch 19/100\n",
      "628/628 [==============================] - 14s 22ms/step - loss: 0.8239 - acc: 0.8600 - val_loss: 0.9321 - val_acc: 0.8215 - lr: 3.0000e-04\n",
      "Epoch 20/100\n",
      "628/628 [==============================] - 14s 22ms/step - loss: 0.7942 - acc: 0.8625 - val_loss: 0.9105 - val_acc: 0.8286 - lr: 3.0000e-04\n",
      "Epoch 21/100\n",
      "628/628 [==============================] - 14s 22ms/step - loss: 0.7649 - acc: 0.8682 - val_loss: 0.8881 - val_acc: 0.8339 - lr: 3.0000e-04\n",
      "Epoch 22/100\n",
      "628/628 [==============================] - 14s 22ms/step - loss: 0.7439 - acc: 0.8727 - val_loss: 0.8947 - val_acc: 0.8298 - lr: 3.0000e-04\n",
      "Epoch 23/100\n",
      "628/628 [==============================] - 14s 22ms/step - loss: 0.7283 - acc: 0.8780 - val_loss: 0.8774 - val_acc: 0.8355 - lr: 3.0000e-04\n",
      "Epoch 24/100\n",
      "628/628 [==============================] - 14s 22ms/step - loss: 0.7119 - acc: 0.8801 - val_loss: 0.9349 - val_acc: 0.8170 - lr: 3.0000e-04\n",
      "Epoch 25/100\n",
      "628/628 [==============================] - 14s 22ms/step - loss: 0.7004 - acc: 0.8831 - val_loss: 0.9026 - val_acc: 0.8272 - lr: 3.0000e-04\n",
      "Epoch 26/100\n",
      "627/628 [============================>.] - ETA: 0s - loss: 0.6925 - acc: 0.8860\n",
      "Epoch 26: ReduceLROnPlateau reducing learning rate to 9.000000427477062e-05.\n",
      "628/628 [==============================] - 14s 22ms/step - loss: 0.6923 - acc: 0.8860 - val_loss: 0.8700 - val_acc: 0.8330 - lr: 3.0000e-04\n",
      "Epoch 27/100\n",
      "628/628 [==============================] - 14s 22ms/step - loss: 0.6151 - acc: 0.9099 - val_loss: 0.8318 - val_acc: 0.8468 - lr: 9.0000e-05\n",
      "Epoch 28/100\n",
      "628/628 [==============================] - 14s 22ms/step - loss: 0.5852 - acc: 0.9186 - val_loss: 0.8245 - val_acc: 0.8478 - lr: 9.0000e-05\n",
      "Epoch 29/100\n",
      "628/628 [==============================] - 14s 22ms/step - loss: 0.5628 - acc: 0.9204 - val_loss: 0.8142 - val_acc: 0.8553 - lr: 9.0000e-05\n",
      "Epoch 30/100\n",
      "628/628 [==============================] - 14s 22ms/step - loss: 0.5536 - acc: 0.9240 - val_loss: 0.8177 - val_acc: 0.8498 - lr: 9.0000e-05\n",
      "Epoch 31/100\n",
      "628/628 [==============================] - 14s 22ms/step - loss: 0.5273 - acc: 0.9301 - val_loss: 0.8306 - val_acc: 0.8476 - lr: 9.0000e-05\n",
      "Epoch 32/100\n",
      "627/628 [============================>.] - ETA: 0s - loss: 0.5155 - acc: 0.9319\n",
      "Epoch 32: ReduceLROnPlateau reducing learning rate to 2.700000040931627e-05.\n",
      "628/628 [==============================] - 14s 22ms/step - loss: 0.5155 - acc: 0.9319 - val_loss: 0.8189 - val_acc: 0.8485 - lr: 9.0000e-05\n",
      "Epoch 33/100\n",
      "628/628 [==============================] - 14s 22ms/step - loss: 0.4937 - acc: 0.9377 - val_loss: 0.7979 - val_acc: 0.8519 - lr: 2.7000e-05\n",
      "Epoch 34/100\n",
      "628/628 [==============================] - 14s 22ms/step - loss: 0.4831 - acc: 0.9412 - val_loss: 0.8000 - val_acc: 0.8541 - lr: 2.7000e-05\n"
     ]
    }
   ],
   "source": [
    "from keras.callbacks import EarlyStopping, ModelCheckpoint, ReduceLROnPlateau\n",
    "\n",
    "learning_rate_reduction = ReduceLROnPlateau(\n",
    "    monitor='val_acc', \n",
    "    patience=3, \n",
    "    verbose=1, \n",
    "    factor=0.3, \n",
    "    min_lr=0.00001)\n",
    "\n",
    "early_stop = EarlyStopping(monitor='val_acc', \n",
    "                           patience=5, \n",
    "                           restore_best_weights=True)\n",
    "model_checkpoint = ModelCheckpoint('models/S01/checkpoints/S01-best_model.h5', save_best_only=True)\n",
    "\n",
    "history = model.fit(\n",
    "    train_dataset,\n",
    "    epochs=100,\n",
    "    validation_data=validation_dataset,\n",
    "    callbacks=[early_stop, model_checkpoint, learning_rate_reduction])"
   ]
  },
  {
   "cell_type": "markdown",
   "metadata": {},
   "source": [
    "## Save Model"
   ]
  },
  {
   "cell_type": "code",
   "execution_count": 7,
   "metadata": {},
   "outputs": [
    {
     "name": "stderr",
     "output_type": "stream",
     "text": [
      "/tmp/ipykernel_28431/1824214318.py:6: UserWarning: You are saving your model as an HDF5 file via `model.save()`. This file format is considered legacy. We recommend using instead the native Keras format, e.g. `model.save('my_model.keras')`.\n",
      "  keras.models.save_model(model, 'models/S01-model_' + date + '.h5')\n"
     ]
    }
   ],
   "source": [
    "import datetime\n",
    "import time\n",
    "\n",
    "date = datetime.datetime.now().strftime(\"%Y-%m-%d_%H-%M-%S\")\n",
    "\n",
    "keras.models.save_model(model, 'models/S01-model_' + date + '.h5')"
   ]
  },
  {
   "cell_type": "markdown",
   "metadata": {},
   "source": [
    "# **EVALUATE**"
   ]
  },
  {
   "cell_type": "markdown",
   "metadata": {},
   "source": [
    "## Evaluate the model on the validation dataset."
   ]
  },
  {
   "cell_type": "code",
   "execution_count": 8,
   "metadata": {},
   "outputs": [
    {
     "name": "stdout",
     "output_type": "stream",
     "text": [
      "157/157 [==============================] - 1s 6ms/step - loss: 0.8142 - acc: 0.8553\n",
      "val_acc: 0.8553000092506409\n"
     ]
    }
   ],
   "source": [
    "val_loss, val_acc = model.evaluate(validation_dataset)\n",
    "print('val_acc:', val_acc)"
   ]
  },
  {
   "cell_type": "markdown",
   "metadata": {},
   "source": [
    "## Training and Validation Curves\n",
    "Plot the training and validation accuracy and loss curves."
   ]
  },
  {
   "cell_type": "code",
   "execution_count": 9,
   "metadata": {},
   "outputs": [
    {
     "data": {
      "image/png": "[encoded data removed]",
      "text/plain": [
       "<Figure size 640x480 with 1 Axes>"
      ]
     },
     "metadata": {},
     "output_type": "display_data"
    },
    {
     "data": {
      "image/png": "[encoded data removed]",
      "text/plain": [
       "<Figure size 640x480 with 1 Axes>"
      ]
     },
     "metadata": {},
     "output_type": "display_data"
    }
   ],
   "source": [
    "\n",
    "import matplotlib.pyplot as plt\n",
    "\n",
    "# Extract the history from the training process\n",
    "acc = history.history['acc']\n",
    "val_acc = history.history['val_acc']\n",
    "loss = history.history['loss']\n",
    "val_loss = history.history['val_loss']\n",
    "epochs = range(1, len(acc) + 1)\n",
    "\n",
    "# Plot the training and validation accuracy\n",
    "plt.plot(epochs, acc, 'bo', label='Training acc')\n",
    "plt.plot(epochs, val_acc, 'b', label='Validation acc')\n",
    "plt.title('Training and validation accuracy')\n",
    "plt.legend()\n",
    "\n",
    "# Plot the training and validation loss\n",
    "plt.figure()\n",
    "plt.plot(epochs, loss, 'bo', label='Training loss')\n",
    "plt.plot(epochs, val_loss, 'b', label='Validation loss')\n",
    "plt.title('Training and validation loss')\n",
    "plt.legend()\n",
    "plt.show()"
   ]
  },
  {
   "cell_type": "markdown",
   "metadata": {},
   "source": [
    "## Confusion Matrix"
   ]
  },
  {
   "cell_type": "code",
   "execution_count": 10,
   "metadata": {},
   "outputs": [
    {
     "name": "stdout",
     "output_type": "stream",
     "text": [
      "2/2 [==============================] - 0s 2ms/step\n",
      "2/2 [==============================] - 0s 2ms/step\n",
      "2/2 [==============================] - 0s 2ms/step\n",
      "2/2 [==============================] - 0s 2ms/step\n"
     ]
    },
    {
     "name": "stderr",
     "output_type": "stream",
     "text": [
      "2024-06-21 00:40:48.149190: W external/local_tsl/tsl/framework/bfc_allocator.cc:296] Allocator (GPU_0_bfc) ran out of memory trying to allocate 203.00MiB with freed_by_count=0. The caller indicates that this is not a failure, but this may mean that there could be performance gains if more memory were available.\n",
      "2024-06-21 00:40:48.186877: W external/local_tsl/tsl/framework/bfc_allocator.cc:296] Allocator (GPU_0_bfc) ran out of memory trying to allocate 203.00MiB with freed_by_count=0. The caller indicates that this is not a failure, but this may mean that there could be performance gains if more memory were available.\n"
     ]
    },
    {
     "name": "stdout",
     "output_type": "stream",
     "text": [
      "2/2 [==============================] - 0s 3ms/step\n",
      "2/2 [==============================] - 0s 2ms/step\n",
      "2/2 [==============================] - 0s 2ms/step\n",
      "2/2 [==============================] - 0s 3ms/step\n",
      "2/2 [==============================] - 0s 2ms/step\n",
      "2/2 [==============================] - 0s 2ms/step\n",
      "2/2 [==============================] - 0s 2ms/step\n",
      "2/2 [==============================] - 0s 2ms/step\n",
      "2/2 [==============================] - 0s 2ms/step\n",
      "2/2 [==============================] - 0s 3ms/step\n",
      "2/2 [==============================] - 0s 3ms/step\n",
      "2/2 [==============================] - 0s 2ms/step\n",
      "2/2 [==============================] - 0s 2ms/step\n",
      "2/2 [==============================] - 0s 3ms/step\n",
      "2/2 [==============================] - 0s 2ms/step\n",
      "2/2 [==============================] - 0s 3ms/step\n",
      "2/2 [==============================] - 0s 2ms/step\n",
      "2/2 [==============================] - 0s 2ms/step\n",
      "2/2 [==============================] - 0s 2ms/step\n",
      "2/2 [==============================] - 0s 2ms/step\n",
      "2/2 [==============================] - 0s 3ms/step\n",
      "2/2 [==============================] - 0s 4ms/step\n",
      "2/2 [==============================] - 0s 3ms/step\n",
      "2/2 [==============================] - 0s 2ms/step\n",
      "2/2 [==============================] - 0s 2ms/step\n",
      "2/2 [==============================] - 0s 3ms/step\n",
      "2/2 [==============================] - 0s 5ms/step\n",
      "2/2 [==============================] - 0s 3ms/step\n",
      "2/2 [==============================] - 0s 2ms/step\n",
      "2/2 [==============================] - 0s 3ms/step\n",
      "2/2 [==============================] - 0s 2ms/step\n",
      "2/2 [==============================] - 0s 2ms/step\n",
      "2/2 [==============================] - 0s 3ms/step\n",
      "2/2 [==============================] - 0s 2ms/step\n",
      "2/2 [==============================] - 0s 2ms/step\n",
      "2/2 [==============================] - 0s 2ms/step\n",
      "2/2 [==============================] - 0s 3ms/step\n",
      "2/2 [==============================] - 0s 3ms/step\n",
      "2/2 [==============================] - 0s 3ms/step\n",
      "2/2 [==============================] - 0s 2ms/step\n",
      "2/2 [==============================] - 0s 3ms/step\n",
      "2/2 [==============================] - 0s 2ms/step\n",
      "2/2 [==============================] - 0s 2ms/step\n",
      "2/2 [==============================] - 0s 3ms/step\n",
      "2/2 [==============================] - 0s 2ms/step\n",
      "2/2 [==============================] - 0s 3ms/step\n",
      "2/2 [==============================] - 0s 2ms/step\n",
      "2/2 [==============================] - 0s 2ms/step\n",
      "2/2 [==============================] - 0s 2ms/step\n",
      "2/2 [==============================] - 0s 2ms/step\n",
      "2/2 [==============================] - 0s 2ms/step\n",
      "2/2 [==============================] - 0s 3ms/step\n",
      "2/2 [==============================] - 0s 3ms/step\n",
      "2/2 [==============================] - 0s 2ms/step\n",
      "2/2 [==============================] - 0s 2ms/step\n",
      "2/2 [==============================] - 0s 4ms/step\n",
      "2/2 [==============================] - 0s 2ms/step\n",
      "2/2 [==============================] - 0s 4ms/step\n",
      "2/2 [==============================] - 0s 3ms/step\n",
      "2/2 [==============================] - 0s 2ms/step\n",
      "2/2 [==============================] - 0s 2ms/step\n",
      "2/2 [==============================] - 0s 2ms/step\n",
      "2/2 [==============================] - 0s 3ms/step\n",
      "2/2 [==============================] - 0s 2ms/step\n",
      "2/2 [==============================] - 0s 3ms/step\n",
      "2/2 [==============================] - 0s 2ms/step\n",
      "2/2 [==============================] - 0s 6ms/step\n",
      "2/2 [==============================] - 0s 3ms/step\n",
      "2/2 [==============================] - 0s 3ms/step\n",
      "2/2 [==============================] - 0s 3ms/step\n",
      "2/2 [==============================] - 0s 2ms/step\n",
      "2/2 [==============================] - 0s 3ms/step\n",
      "2/2 [==============================] - 0s 2ms/step\n",
      "2/2 [==============================] - 0s 3ms/step\n",
      "2/2 [==============================] - 0s 3ms/step\n",
      "2/2 [==============================] - 0s 3ms/step\n",
      "2/2 [==============================] - 0s 3ms/step\n",
      "2/2 [==============================] - 0s 2ms/step\n",
      "2/2 [==============================] - 0s 2ms/step\n",
      "2/2 [==============================] - 0s 2ms/step\n",
      "2/2 [==============================] - 0s 2ms/step\n",
      "2/2 [==============================] - 0s 2ms/step\n",
      "2/2 [==============================] - 0s 3ms/step\n",
      "2/2 [==============================] - 0s 3ms/step\n",
      "2/2 [==============================] - 0s 2ms/step\n",
      "2/2 [==============================] - 0s 2ms/step\n",
      "2/2 [==============================] - 0s 2ms/step\n",
      "2/2 [==============================] - 0s 2ms/step\n",
      "2/2 [==============================] - 0s 3ms/step\n",
      "2/2 [==============================] - 0s 3ms/step\n",
      "2/2 [==============================] - 0s 3ms/step\n",
      "2/2 [==============================] - 0s 3ms/step\n",
      "2/2 [==============================] - 0s 3ms/step\n",
      "2/2 [==============================] - 0s 3ms/step\n",
      "2/2 [==============================] - 0s 3ms/step\n",
      "2/2 [==============================] - 0s 4ms/step\n",
      "2/2 [==============================] - 0s 3ms/step\n",
      "2/2 [==============================] - 0s 3ms/step\n",
      "2/2 [==============================] - 0s 3ms/step\n",
      "2/2 [==============================] - 0s 3ms/step\n",
      "2/2 [==============================] - 0s 2ms/step\n",
      "2/2 [==============================] - 0s 7ms/step\n",
      "2/2 [==============================] - 0s 4ms/step\n",
      "2/2 [==============================] - 0s 3ms/step\n",
      "2/2 [==============================] - 0s 3ms/step\n",
      "2/2 [==============================] - 0s 3ms/step\n",
      "2/2 [==============================] - 0s 3ms/step\n",
      "2/2 [==============================] - 0s 3ms/step\n",
      "2/2 [==============================] - 0s 3ms/step\n",
      "2/2 [==============================] - 0s 2ms/step\n",
      "2/2 [==============================] - 0s 3ms/step\n",
      "2/2 [==============================] - 0s 2ms/step\n",
      "2/2 [==============================] - 0s 3ms/step\n",
      "2/2 [==============================] - 0s 2ms/step\n",
      "2/2 [==============================] - 0s 4ms/step\n",
      "2/2 [==============================] - 0s 3ms/step\n",
      "2/2 [==============================] - 0s 2ms/step\n",
      "2/2 [==============================] - 0s 3ms/step\n",
      "2/2 [==============================] - 0s 3ms/step\n",
      "2/2 [==============================] - 0s 2ms/step\n",
      "2/2 [==============================] - 0s 3ms/step\n",
      "2/2 [==============================] - 0s 3ms/step\n",
      "2/2 [==============================] - 0s 6ms/step\n",
      "2/2 [==============================] - 0s 3ms/step\n",
      "2/2 [==============================] - 0s 2ms/step\n",
      "2/2 [==============================] - 0s 3ms/step\n",
      "2/2 [==============================] - 0s 3ms/step\n",
      "2/2 [==============================] - 0s 3ms/step\n",
      "2/2 [==============================] - 0s 2ms/step\n",
      "2/2 [==============================] - 0s 2ms/step\n",
      "2/2 [==============================] - 0s 3ms/step\n",
      "2/2 [==============================] - 0s 3ms/step\n",
      "2/2 [==============================] - 0s 3ms/step\n",
      "2/2 [==============================] - 0s 2ms/step\n",
      "2/2 [==============================] - 0s 3ms/step\n",
      "2/2 [==============================] - 0s 3ms/step\n",
      "2/2 [==============================] - 0s 3ms/step\n",
      "2/2 [==============================] - 0s 3ms/step\n",
      "2/2 [==============================] - 0s 3ms/step\n",
      "2/2 [==============================] - 0s 2ms/step\n",
      "2/2 [==============================] - 0s 3ms/step\n",
      "2/2 [==============================] - 0s 3ms/step\n",
      "2/2 [==============================] - 0s 2ms/step\n",
      "2/2 [==============================] - 0s 3ms/step\n",
      "2/2 [==============================] - 0s 2ms/step\n",
      "2/2 [==============================] - 0s 3ms/step\n",
      "2/2 [==============================] - 0s 3ms/step\n",
      "2/2 [==============================] - 0s 3ms/step\n",
      "2/2 [==============================] - 0s 3ms/step\n",
      "2/2 [==============================] - 0s 2ms/step\n",
      "2/2 [==============================] - 0s 3ms/step\n",
      "2/2 [==============================] - 0s 3ms/step\n",
      "1/1 [==============================] - 0s 101ms/step\n"
     ]
    }
   ],
   "source": [
    "# confusion matrix\n",
    "\n",
    "import numpy as np\n",
    "from sklearn.metrics import confusion_matrix\n",
    "\n",
    "# Generate predictions\n",
    "y_pred = []\n",
    "y_true = []\n",
    "\n",
    "for images, labels in validation_dataset:\n",
    "    predictions = model.predict(images)\n",
    "    y_pred.extend(np.argmax(predictions, axis=1))  # Predicted labels\n",
    "    y_true.extend(np.argmax(labels, axis=1))       # True labels\n",
    "\n",
    "# Compute confusion matrix\n",
    "conf_matrix = confusion_matrix(y_true, y_pred)"
   ]
  },
  {
   "cell_type": "code",
   "execution_count": 11,
   "metadata": {},
   "outputs": [
    {
     "name": "stdout",
     "output_type": "stream",
     "text": [
      "Confusion Matrix:\n",
      "[[885  13  20  11  13   3   6   7  37  19]\n",
      " [  7 953   3   1   1   3   3   3  12  28]\n",
      " [ 40   0 735  48  43  28  41   8   8   1]\n",
      " [ 10   0  39 757  32 116  47   9   1   5]\n",
      " [  9   0  35  39 847  22  21  16   6   2]\n",
      " [  6   1  31 136  29 778  16  27   1   0]\n",
      " [  3   0  28  32   9   7 898   1   1   1]\n",
      " [  9   1  23  32  35  38   2 833   0   4]\n",
      " [ 25   9   4   3   1   2   2   3 949   5]\n",
      " [ 14  44  10   9   4   4   4   4  11 918]]\n"
     ]
    }
   ],
   "source": [
    "# Display the confusion matrix\n",
    "print(\"Confusion Matrix:\")\n",
    "print(conf_matrix)"
   ]
  },
  {
   "cell_type": "code",
   "execution_count": 12,
   "metadata": {},
   "outputs": [
    {
     "data": {
      "image/png": "[encoded data removed]",
      "text/plain": [
       "<Figure size 800x600 with 2 Axes>"
      ]
     },
     "metadata": {},
     "output_type": "display_data"
    }
   ],
   "source": [
    "\n",
    "from matplotlib.colors import LinearSegmentedColormap\n",
    "\n",
    "# Custom colormap\n",
    "colors = ['#ecf0f1', '#008751']\n",
    "cmap = LinearSegmentedColormap.from_list('custom_cmap', colors, N=256, gamma=0.5)\n",
    "\n",
    "plt.figure(figsize=(8, 6))\n",
    "plt.imshow(conf_matrix, interpolation='nearest', cmap=cmap)\n",
    "plt.title('Confusion Matrix')\n",
    "plt.colorbar()\n",
    "tick_marks = np.arange(len(validation_dataset.class_names))\n",
    "plt.xticks(tick_marks, validation_dataset.class_names, rotation=45)\n",
    "plt.yticks(tick_marks, validation_dataset.class_names)\n",
    "plt.tight_layout()\n",
    "plt.ylabel('True label')\n",
    "plt.xlabel('Predicted label')\n",
    "plt.show()"
   ]
  },
  {
   "cell_type": "markdown",
   "metadata": {},
   "source": [
    "## Predictions\n",
    "\n",
    "Predict and visualize the results for a sample image."
   ]
  },
  {
   "cell_type": "code",
   "execution_count": 13,
   "metadata": {},
   "outputs": [
    {
     "data": {
      "image/png": "[encoded data removed]",
      "text/plain": [
       "<Figure size 640x480 with 1 Axes>"
      ]
     },
     "metadata": {},
     "output_type": "display_data"
    },
    {
     "name": "stdout",
     "output_type": "stream",
     "text": [
      "(1, 32, 32, 3)\n",
      "1/1 [==============================] - 0s 236ms/step\n",
      "Result:  [[0. 0. 0. 0. 0. 0. 1. 0. 0. 0.]]\n"
     ]
    }
   ],
   "source": [
    "import tensorflow as tf\n",
    "import matplotlib.pyplot as plt\n",
    "from keras.preprocessing import image\n",
    "\n",
    "# Load an image\n",
    "img = tf.keras.preprocessing.image.load_img(train_dirs[0] + '/006_frog/alytes_obstetricans_s_000179.png', target_size=(32, 32), interpolation='bilinear')\n",
    "# img = tf.keras.preprocessing.image.load_img(train_dirs[0] + '/000_airplane/airbus_s_000012.png', target_size=(32, 32), interpolation='bilinear')\n",
    "\n",
    "# Preprocess the image\n",
    "img_array = image.img_to_array(img)\n",
    "img_array = tf.expand_dims(img_array, 0)\n",
    "\n",
    "plt.imshow(img)\n",
    "plt.show()\n",
    "\n",
    "print(img_array.shape)\n",
    "result = model.predict(img_array)\n",
    "print(\"Result: \", result.round())"
   ]
  }
 ],
 "metadata": {
  "kernelspec": {
   "display_name": "Python 3",
   "language": "python",
   "name": "python3"
  },
  "language_info": {
   "codemirror_mode": {
    "name": "ipython",
    "version": 3
   },
   "file_extension": ".py",
   "mimetype": "text/x-python",
   "name": "python",
   "nbconvert_exporter": "python",
   "pygments_lexer": "ipython3",
   "version": "3.11.4"
  }
 },
 "nbformat": 4,
 "nbformat_minor": 2
}
