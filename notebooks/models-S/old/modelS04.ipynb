{
 "cells": [
  {
   "cell_type": "markdown",
   "metadata": {},
   "source": [
    "# **Model_S 01** - No data augmentation\n",
    "Name: `Alberto Pingo` \\\n",
    "Email: `2202145`@my.ipleiria.pt \n",
    "\n",
    "Validation dataset: `train5` "
   ]
  },
  {
   "cell_type": "markdown",
   "metadata": {},
   "source": [
    "## Directories\n",
    "This section sets up the directory paths used for training, validation, and test datasets based on the repository structure."
   ]
  },
  {
   "cell_type": "code",
   "execution_count": 1,
   "metadata": {},
   "outputs": [
    {
     "name": "stdout",
     "output_type": "stream",
     "text": [
      "/home/pws/code/IA-image-classification/notebooks/models-S\n",
      "/home/pws/code/IA-image-classification/data\n",
      "/home/pws/code/IA-image-classification/data/test\n",
      "/home/pws/code/IA-image-classification/data/train\n",
      "/home/pws/code/IA-image-classification/data/train/train5\n"
     ]
    }
   ],
   "source": [
    "import os\n",
    "\n",
    "current_dir = os.getcwd()\n",
    "\n",
    "# TWO FOLDERS UP\n",
    "data_dir = os.path.abspath(os.path.join(current_dir, os.pardir, os.pardir, 'data'))\n",
    "test_dir = os.path.join(data_dir, 'test')\n",
    "train_dir = os.path.join(data_dir, 'train')\n",
    "\n",
    "train_dirs = []\n",
    "for i in range(1, 5):\n",
    "    train_dirs.append(os.path.join(train_dir, 'train' + str(i)))\n",
    "\n",
    "\n",
    "validation_dir = os.path.join(data_dir, 'train', 'train5')\n",
    "\n",
    "print(current_dir)\n",
    "print(data_dir)\n",
    "print(test_dir)\n",
    "print(train_dir)\n",
    "print(validation_dir)"
   ]
  },
  {
   "cell_type": "markdown",
   "metadata": {},
   "source": [
    "## Preprocessing\n",
    "Load the datasets and perform initial preprocessing. Images are resized to 32x32 pixels and batched."
   ]
  },
  {
   "cell_type": "code",
   "execution_count": 2,
   "metadata": {},
   "outputs": [
    {
     "name": "stderr",
     "output_type": "stream",
     "text": [
      "2024-06-21 03:41:52.013585: E external/local_xla/xla/stream_executor/cuda/cuda_dnn.cc:9261] Unable to register cuDNN factory: Attempting to register factory for plugin cuDNN when one has already been registered\n",
      "2024-06-21 03:41:52.013633: E external/local_xla/xla/stream_executor/cuda/cuda_fft.cc:607] Unable to register cuFFT factory: Attempting to register factory for plugin cuFFT when one has already been registered\n",
      "2024-06-21 03:41:52.014882: E external/local_xla/xla/stream_executor/cuda/cuda_blas.cc:1515] Unable to register cuBLAS factory: Attempting to register factory for plugin cuBLAS when one has already been registered\n",
      "2024-06-21 03:41:52.021822: I tensorflow/core/platform/cpu_feature_guard.cc:182] This TensorFlow binary is optimized to use available CPU instructions in performance-critical operations.\n",
      "To enable the following instructions: AVX2 FMA, in other operations, rebuild TensorFlow with the appropriate compiler flags.\n",
      "2024-06-21 03:41:52.790310: W tensorflow/compiler/tf2tensorrt/utils/py_utils.cc:38] TF-TRT Warning: Could not find TensorRT\n"
     ]
    },
    {
     "name": "stdout",
     "output_type": "stream",
     "text": [
      "Found 10000 files belonging to 10 classes.\n"
     ]
    },
    {
     "name": "stderr",
     "output_type": "stream",
     "text": [
      "2024-06-21 03:41:53.684270: I external/local_xla/xla/stream_executor/cuda/cuda_executor.cc:901] successful NUMA node read from SysFS had negative value (-1), but there must be at least one NUMA node, so returning NUMA node zero. See more at https://github.com/torvalds/linux/blob/v6.0/Documentation/ABI/testing/sysfs-bus-pci#L344-L355\n",
      "2024-06-21 03:41:53.717403: I external/local_xla/xla/stream_executor/cuda/cuda_executor.cc:901] successful NUMA node read from SysFS had negative value (-1), but there must be at least one NUMA node, so returning NUMA node zero. See more at https://github.com/torvalds/linux/blob/v6.0/Documentation/ABI/testing/sysfs-bus-pci#L344-L355\n",
      "2024-06-21 03:41:53.717575: I external/local_xla/xla/stream_executor/cuda/cuda_executor.cc:901] successful NUMA node read from SysFS had negative value (-1), but there must be at least one NUMA node, so returning NUMA node zero. See more at https://github.com/torvalds/linux/blob/v6.0/Documentation/ABI/testing/sysfs-bus-pci#L344-L355\n",
      "2024-06-21 03:41:53.718186: I external/local_xla/xla/stream_executor/cuda/cuda_executor.cc:901] successful NUMA node read from SysFS had negative value (-1), but there must be at least one NUMA node, so returning NUMA node zero. See more at https://github.com/torvalds/linux/blob/v6.0/Documentation/ABI/testing/sysfs-bus-pci#L344-L355\n",
      "2024-06-21 03:41:53.718313: I external/local_xla/xla/stream_executor/cuda/cuda_executor.cc:901] successful NUMA node read from SysFS had negative value (-1), but there must be at least one NUMA node, so returning NUMA node zero. See more at https://github.com/torvalds/linux/blob/v6.0/Documentation/ABI/testing/sysfs-bus-pci#L344-L355\n",
      "2024-06-21 03:41:53.718429: I external/local_xla/xla/stream_executor/cuda/cuda_executor.cc:901] successful NUMA node read from SysFS had negative value (-1), but there must be at least one NUMA node, so returning NUMA node zero. See more at https://github.com/torvalds/linux/blob/v6.0/Documentation/ABI/testing/sysfs-bus-pci#L344-L355\n",
      "2024-06-21 03:41:53.791254: I external/local_xla/xla/stream_executor/cuda/cuda_executor.cc:901] successful NUMA node read from SysFS had negative value (-1), but there must be at least one NUMA node, so returning NUMA node zero. See more at https://github.com/torvalds/linux/blob/v6.0/Documentation/ABI/testing/sysfs-bus-pci#L344-L355\n",
      "2024-06-21 03:41:53.791409: I external/local_xla/xla/stream_executor/cuda/cuda_executor.cc:901] successful NUMA node read from SysFS had negative value (-1), but there must be at least one NUMA node, so returning NUMA node zero. See more at https://github.com/torvalds/linux/blob/v6.0/Documentation/ABI/testing/sysfs-bus-pci#L344-L355\n",
      "2024-06-21 03:41:53.791545: I external/local_xla/xla/stream_executor/cuda/cuda_executor.cc:901] successful NUMA node read from SysFS had negative value (-1), but there must be at least one NUMA node, so returning NUMA node zero. See more at https://github.com/torvalds/linux/blob/v6.0/Documentation/ABI/testing/sysfs-bus-pci#L344-L355\n",
      "2024-06-21 03:41:53.791651: I tensorflow/core/common_runtime/gpu/gpu_device.cc:1929] Created device /job:localhost/replica:0/task:0/device:GPU:0 with 4730 MB memory:  -> device: 0, name: NVIDIA GeForce GTX 1060 6GB, pci bus id: 0000:01:00.0, compute capability: 6.1\n"
     ]
    },
    {
     "name": "stdout",
     "output_type": "stream",
     "text": [
      "Found 10000 files belonging to 10 classes.\n",
      "Found 10000 files belonging to 10 classes.\n",
      "Found 10000 files belonging to 10 classes.\n",
      "Found 10000 files belonging to 10 classes.\n",
      "Found 10000 files belonging to 10 classes.\n"
     ]
    }
   ],
   "source": [
    "\n",
    "from keras.utils import image_dataset_from_directory\n",
    "import tensorflow as tf\n",
    "\n",
    "# Load training datasets from train1 to train4\n",
    "train_datasets = []\n",
    "IMG_SIZE = 32\n",
    "BATCH_SIZE = 64\n",
    "for i in range(1, 5):\n",
    "    dataset = image_dataset_from_directory(train_dirs[i-1], image_size=(IMG_SIZE, IMG_SIZE), batch_size=BATCH_SIZE, label_mode='categorical')\n",
    "    train_datasets.append(dataset)\n",
    " \n",
    "train_dataset = train_datasets[0]\n",
    "for dataset in train_datasets[1:]:\n",
    "    train_dataset = train_dataset.concatenate(dataset)\n",
    "\n",
    "# Load validation dataset\n",
    "validation_dataset = image_dataset_from_directory(validation_dir, image_size=(IMG_SIZE, IMG_SIZE), batch_size=BATCH_SIZE, label_mode='categorical')\n",
    "\n",
    "\n",
    "# Load test dataset\n",
    "test_dataset = image_dataset_from_directory(test_dir, image_size=(IMG_SIZE, IMG_SIZE), batch_size=BATCH_SIZE, label_mode='categorical')"
   ]
  },
  {
   "cell_type": "code",
   "execution_count": 3,
   "metadata": {},
   "outputs": [],
   "source": [
    "# import matplotlib.pyplot as plt\n",
    "\n",
    "# for data, _ in train_dataset.take(1):\n",
    "#     for i in range(9):\n",
    "#         plt.imshow(data[i].numpy().astype('uint8'))\n",
    "#         plt.show()\n",
    "#     break"
   ]
  },
  {
   "cell_type": "markdown",
   "metadata": {},
   "source": [
    "# **MODEL ARCHITECTURE**"
   ]
  },
  {
   "cell_type": "markdown",
   "metadata": {},
   "source": [
    "## Build a Convolutional Neural Network (CNN) model."
   ]
  },
  {
   "cell_type": "markdown",
   "metadata": {},
   "source": [
    "1. **Input Layer**\n",
    "   - The input layer expects images of size 32x32 pixels with 3 color channels (RGB).\n",
    "\n",
    "2. **Rescaling Layer**\n",
    "   - Rescales the pixel values from the range [0, 255] to [0, 1].\n",
    "\n",
    "3. **Convolutional Layers**\n",
    "   - The model consists of 3 convolutional layers with 32, 64, and 128 filters, respectively.\n",
    "   - The weight are initialized using the `he_normal` initializer.\n",
    "   \n",
    "4. **Max Pooling Layers**\n",
    "   - Max pooling layers are used after each convolutional layer to reduce the spatial dimensions of the feature maps.\n",
    "   - A pooling size of 2x2 with a stride of 2 is used.\n",
    "\n",
    "5. **Dense Layer** \n",
    "   - The model has a dense layer with 256 units and ReLU activation function.\n",
    "   - The purpose of this layer is to learn the complex patterns in the data.\n",
    "\n",
    "6. **Output Layer**\n",
    "   - The output layer consists of 10 units (one for each class) with a softmax activation function.\n",
    "   - The softmax function outputs the probability distribution over the classes.\n",
    "\n",
    "**Overfitting measures**\n",
    "   - Dropout layers are used after each Convolutional and Dense layer to prevent overfitting.\n",
    "   - Kernel Regularization is used to prevent overfitting.\n",
    "\n",
    "**Batch Normalization**\n",
    "   - Batch normalization is used after each Convolutional and Dense layer to normalize the activations of the previous layer at each batch.\n",
    "   - This helps to stabilize and speed up the training process."
   ]
  },
  {
   "cell_type": "code",
   "execution_count": 4,
   "metadata": {},
   "outputs": [
    {
     "name": "stdout",
     "output_type": "stream",
     "text": [
      "Model: \"model\"\n",
      "_________________________________________________________________\n",
      " Layer (type)                Output Shape              Param #   \n",
      "=================================================================\n",
      " input_1 (InputLayer)        [(None, 32, 32, 3)]       0         \n",
      "                                                                 \n",
      " rescaling (Rescaling)       (None, 32, 32, 3)         0         \n",
      "                                                                 \n",
      " conv2d (Conv2D)             (None, 30, 30, 32)        896       \n",
      "                                                                 \n",
      " batch_normalization (Batch  (None, 30, 30, 32)        128       \n",
      " Normalization)                                                  \n",
      "                                                                 \n",
      " dropout (Dropout)           (None, 30, 30, 32)        0         \n",
      "                                                                 \n",
      " conv2d_1 (Conv2D)           (None, 28, 28, 64)        18496     \n",
      "                                                                 \n",
      " batch_normalization_1 (Bat  (None, 28, 28, 64)        256       \n",
      " chNormalization)                                                \n",
      "                                                                 \n",
      " max_pooling2d (MaxPooling2  (None, 14, 14, 64)        0         \n",
      " D)                                                              \n",
      "                                                                 \n",
      " dropout_1 (Dropout)         (None, 14, 14, 64)        0         \n",
      "                                                                 \n",
      " conv2d_2 (Conv2D)           (None, 12, 12, 128)       73856     \n",
      "                                                                 \n",
      " batch_normalization_2 (Bat  (None, 12, 12, 128)       512       \n",
      " chNormalization)                                                \n",
      "                                                                 \n",
      " dropout_2 (Dropout)         (None, 12, 12, 128)       0         \n",
      "                                                                 \n",
      " conv2d_3 (Conv2D)           (None, 10, 10, 256)       295168    \n",
      "                                                                 \n",
      " batch_normalization_3 (Bat  (None, 10, 10, 256)       1024      \n",
      " chNormalization)                                                \n",
      "                                                                 \n",
      " max_pooling2d_1 (MaxPoolin  (None, 5, 5, 256)         0         \n",
      " g2D)                                                            \n",
      "                                                                 \n",
      " dropout_3 (Dropout)         (None, 5, 5, 256)         0         \n",
      "                                                                 \n",
      " flatten (Flatten)           (None, 6400)              0         \n",
      "                                                                 \n",
      " dense (Dense)               (None, 256)               1638656   \n",
      "                                                                 \n",
      " dense_1 (Dense)             (None, 128)               32896     \n",
      "                                                                 \n",
      " dropout_4 (Dropout)         (None, 128)               0         \n",
      "                                                                 \n",
      " dense_2 (Dense)             (None, 10)                1290      \n",
      "                                                                 \n",
      "=================================================================\n",
      "Total params: 2063178 (7.87 MB)\n",
      "Trainable params: 2062218 (7.87 MB)\n",
      "Non-trainable params: 960 (3.75 KB)\n",
      "_________________________________________________________________\n"
     ]
    }
   ],
   "source": [
    "from tensorflow import keras\n",
    "from keras import layers, models, regularizers\n",
    "\n",
    "inputs = keras.Input(shape=(IMG_SIZE, IMG_SIZE, 3))\n",
    "\n",
    "x = layers.Rescaling(1./255)(inputs)\n",
    "\n",
    "x = layers.Conv2D(filters=32, kernel_size=3, kernel_initializer='he_normal', activation=\"relu\", kernel_regularizer=regularizers.l2(0.001))(x)\n",
    "x = layers.BatchNormalization()(x)\n",
    "x = layers.Dropout(0.3)(x)\n",
    "\n",
    "x = layers.Conv2D(filters=64, kernel_size=3, kernel_initializer='he_normal', activation=\"relu\", kernel_regularizer=regularizers.l2(0.001))(x)\n",
    "x = layers.BatchNormalization()(x)\n",
    "x = layers.MaxPooling2D(pool_size=2)(x)\n",
    "x = layers.Dropout(0.3)(x)\n",
    "\n",
    "x = layers.Conv2D(filters=128, kernel_size=3, kernel_initializer='he_normal', activation=\"relu\", kernel_regularizer=regularizers.l2(0.001))(x)\n",
    "x = layers.BatchNormalization()(x)\n",
    "x = layers.Dropout(0.3)(x)\n",
    "\n",
    "x = layers.Conv2D(filters=256, kernel_size=3, kernel_initializer='he_normal', activation=\"relu\", kernel_regularizer=regularizers.l2(0.001))(x)\n",
    "x = layers.BatchNormalization()(x)\n",
    "x = layers.MaxPooling2D(pool_size=2)(x)\n",
    "x = layers.Dropout(0.3)(x)\n",
    "\n",
    "x = layers.Flatten()(x)\n",
    "x = layers.Dense(256, kernel_initializer='he_normal', activation=\"relu\", kernel_regularizer=regularizers.l2(0.001))(x)\n",
    "x = layers.Dense(128, kernel_initializer='he_normal', activation=\"relu\", kernel_regularizer=regularizers.l2(0.001))(x)\n",
    "x = layers.Dropout(0.5)(x)  # Added dropout to reduce overfitting\n",
    "\n",
    "outputs = layers.Dense(10, activation=\"softmax\")(x)  # Softmax for multi-class classification\n",
    "\n",
    "model = keras.Model(inputs=inputs, outputs=outputs)\n",
    "model.summary()"
   ]
  },
  {
   "cell_type": "markdown",
   "metadata": {},
   "source": [
    "## Compile Model"
   ]
  },
  {
   "cell_type": "markdown",
   "metadata": {},
   "source": [
    "**Loss function:** \\\n",
    "We use the *Categorical Crossentropy* loss function because it is a **multi-class classification** problem.\n",
    "\n",
    "**Optimizer: Adam** \\\n",
    "We use the *Adam* optimizer because it is one of the best and most popular optimizers for neural networks."
   ]
  },
  {
   "cell_type": "code",
   "execution_count": 5,
   "metadata": {},
   "outputs": [],
   "source": [
    "model.compile(\n",
    "    loss='categorical_crossentropy',\n",
    "    optimizer='adam',\n",
    "    metrics=['acc'])"
   ]
  },
  {
   "cell_type": "markdown",
   "metadata": {},
   "source": [
    "## Train Model\n",
    "Train the model with Early stopping, Model checkpoint, and Learning rate reduction callbacks."
   ]
  },
  {
   "cell_type": "code",
   "execution_count": 6,
   "metadata": {},
   "outputs": [
    {
     "name": "stdout",
     "output_type": "stream",
     "text": [
      "Epoch 1/100\n"
     ]
    },
    {
     "name": "stderr",
     "output_type": "stream",
     "text": [
      "2024-06-21 03:41:57.508703: E tensorflow/core/grappler/optimizers/meta_optimizer.cc:961] layout failed: INVALID_ARGUMENT: Size of values 0 does not match size of permutation 4 @ fanin shape inmodel/dropout/dropout/SelectV2-2-TransposeNHWCToNCHW-LayoutOptimizer\n",
      "2024-06-21 03:41:57.721584: I external/local_xla/xla/stream_executor/cuda/cuda_dnn.cc:454] Loaded cuDNN version 8904\n",
      "2024-06-21 03:41:58.852305: I external/local_xla/xla/service/service.cc:168] XLA service 0x7820b4dc07d0 initialized for platform CUDA (this does not guarantee that XLA will be used). Devices:\n",
      "2024-06-21 03:41:58.852331: I external/local_xla/xla/service/service.cc:176]   StreamExecutor device (0): NVIDIA GeForce GTX 1060 6GB, Compute Capability 6.1\n",
      "2024-06-21 03:41:58.857525: I tensorflow/compiler/mlir/tensorflow/utils/dump_mlir_util.cc:269] disabling MLIR crash reproducer, set env var `MLIR_CRASH_REPRODUCER_DIRECTORY` to enable.\n",
      "WARNING: All log messages before absl::InitializeLog() is called are written to STDERR\n",
      "I0000 00:00:1718937718.925953  158814 device_compiler.h:186] Compiled cluster using XLA!  This line is logged at most once for the lifetime of the process.\n"
     ]
    },
    {
     "name": "stdout",
     "output_type": "stream",
     "text": [
      "628/628 [==============================] - 21s 26ms/step - loss: 3.2750 - acc: 0.2990 - val_loss: 2.6041 - val_acc: 0.4248 - lr: 0.0010\n",
      "Epoch 2/100\n",
      "  1/628 [..............................] - ETA: 33s - loss: 2.4831 - acc: 0.5000"
     ]
    },
    {
     "name": "stderr",
     "output_type": "stream",
     "text": [
      "/home/pws/miniconda3/envs/tensorflow/lib/python3.11/site-packages/keras/src/engine/training.py:3103: UserWarning: You are saving your model as an HDF5 file via `model.save()`. This file format is considered legacy. We recommend using instead the native Keras format, e.g. `model.save('my_model.keras')`.\n",
      "  saving_api.save_model(\n"
     ]
    },
    {
     "name": "stdout",
     "output_type": "stream",
     "text": [
      "628/628 [==============================] - 15s 24ms/step - loss: 2.2552 - acc: 0.4703 - val_loss: 1.9248 - val_acc: 0.5458 - lr: 0.0010\n",
      "Epoch 3/100\n",
      "628/628 [==============================] - 15s 25ms/step - loss: 1.8115 - acc: 0.5793 - val_loss: 1.6173 - val_acc: 0.6327 - lr: 0.0010\n",
      "Epoch 4/100\n",
      "628/628 [==============================] - 15s 24ms/step - loss: 1.6152 - acc: 0.6378 - val_loss: 1.4425 - val_acc: 0.6892 - lr: 0.0010\n",
      "Epoch 5/100\n",
      "628/628 [==============================] - 15s 25ms/step - loss: 1.5348 - acc: 0.6743 - val_loss: 1.4784 - val_acc: 0.6921 - lr: 0.0010\n",
      "Epoch 6/100\n",
      "628/628 [==============================] - 15s 24ms/step - loss: 1.4868 - acc: 0.7002 - val_loss: 1.3563 - val_acc: 0.7341 - lr: 0.0010\n",
      "Epoch 7/100\n",
      "628/628 [==============================] - 15s 24ms/step - loss: 1.4412 - acc: 0.7205 - val_loss: 1.4259 - val_acc: 0.7203 - lr: 0.0010\n",
      "Epoch 8/100\n",
      "628/628 [==============================] - 15s 24ms/step - loss: 1.4118 - acc: 0.7329 - val_loss: 1.3855 - val_acc: 0.7278 - lr: 0.0010\n",
      "Epoch 9/100\n",
      "628/628 [==============================] - 15s 24ms/step - loss: 1.4002 - acc: 0.7406 - val_loss: 1.3823 - val_acc: 0.7421 - lr: 0.0010\n",
      "Epoch 10/100\n",
      "628/628 [==============================] - 16s 25ms/step - loss: 1.3626 - acc: 0.7505 - val_loss: 1.3562 - val_acc: 0.7451 - lr: 0.0010\n",
      "Epoch 11/100\n",
      "628/628 [==============================] - 15s 24ms/step - loss: 1.3356 - acc: 0.7571 - val_loss: 1.4177 - val_acc: 0.7302 - lr: 0.0010\n",
      "Epoch 12/100\n",
      "628/628 [==============================] - 15s 24ms/step - loss: 1.3028 - acc: 0.7645 - val_loss: 1.2917 - val_acc: 0.7607 - lr: 0.0010\n",
      "Epoch 13/100\n",
      "628/628 [==============================] - 15s 24ms/step - loss: 1.2881 - acc: 0.7681 - val_loss: 1.3232 - val_acc: 0.7530 - lr: 0.0010\n",
      "Epoch 14/100\n",
      "628/628 [==============================] - 16s 25ms/step - loss: 1.2640 - acc: 0.7735 - val_loss: 1.2649 - val_acc: 0.7781 - lr: 0.0010\n",
      "Epoch 15/100\n",
      "628/628 [==============================] - 16s 25ms/step - loss: 1.2511 - acc: 0.7776 - val_loss: 1.2514 - val_acc: 0.7725 - lr: 0.0010\n",
      "Epoch 16/100\n",
      "628/628 [==============================] - 15s 24ms/step - loss: 1.2312 - acc: 0.7820 - val_loss: 1.2231 - val_acc: 0.7777 - lr: 0.0010\n",
      "Epoch 17/100\n",
      "627/628 [============================>.] - ETA: 0s - loss: 1.2273 - acc: 0.7837\n",
      "Epoch 17: ReduceLROnPlateau reducing learning rate to 0.0003000000142492354.\n",
      "628/628 [==============================] - 15s 24ms/step - loss: 1.2273 - acc: 0.7837 - val_loss: 1.2770 - val_acc: 0.7619 - lr: 0.0010\n",
      "Epoch 18/100\n",
      "628/628 [==============================] - 15s 24ms/step - loss: 1.0370 - acc: 0.8304 - val_loss: 1.0304 - val_acc: 0.8207 - lr: 3.0000e-04\n",
      "Epoch 19/100\n",
      "628/628 [==============================] - 15s 25ms/step - loss: 0.9218 - acc: 0.8504 - val_loss: 0.9736 - val_acc: 0.8284 - lr: 3.0000e-04\n",
      "Epoch 20/100\n",
      "628/628 [==============================] - 15s 24ms/step - loss: 0.8541 - acc: 0.8607 - val_loss: 0.9312 - val_acc: 0.8323 - lr: 3.0000e-04\n",
      "Epoch 21/100\n",
      "628/628 [==============================] - 15s 24ms/step - loss: 0.8147 - acc: 0.8642 - val_loss: 0.9234 - val_acc: 0.8322 - lr: 3.0000e-04\n",
      "Epoch 22/100\n",
      "628/628 [==============================] - 15s 24ms/step - loss: 0.7839 - acc: 0.8691 - val_loss: 0.9026 - val_acc: 0.8363 - lr: 3.0000e-04\n",
      "Epoch 23/100\n",
      "628/628 [==============================] - 15s 24ms/step - loss: 0.7589 - acc: 0.8740 - val_loss: 0.8994 - val_acc: 0.8312 - lr: 3.0000e-04\n",
      "Epoch 24/100\n",
      "628/628 [==============================] - 15s 25ms/step - loss: 0.7380 - acc: 0.8765 - val_loss: 0.8981 - val_acc: 0.8336 - lr: 3.0000e-04\n",
      "Epoch 25/100\n",
      "628/628 [==============================] - 16s 25ms/step - loss: 0.7280 - acc: 0.8798 - val_loss: 0.8720 - val_acc: 0.8406 - lr: 3.0000e-04\n",
      "Epoch 26/100\n",
      "628/628 [==============================] - 16s 25ms/step - loss: 0.7098 - acc: 0.8851 - val_loss: 0.8810 - val_acc: 0.8338 - lr: 3.0000e-04\n",
      "Epoch 27/100\n",
      "628/628 [==============================] - 15s 24ms/step - loss: 0.6957 - acc: 0.8875 - val_loss: 0.9166 - val_acc: 0.8290 - lr: 3.0000e-04\n",
      "Epoch 28/100\n",
      "626/628 [============================>.] - ETA: 0s - loss: 0.6830 - acc: 0.8903\n",
      "Epoch 28: ReduceLROnPlateau reducing learning rate to 9.000000427477062e-05.\n",
      "628/628 [==============================] - 15s 24ms/step - loss: 0.6830 - acc: 0.8902 - val_loss: 0.8992 - val_acc: 0.8307 - lr: 3.0000e-04\n",
      "Epoch 29/100\n",
      "628/628 [==============================] - 15s 23ms/step - loss: 0.6219 - acc: 0.9107 - val_loss: 0.8464 - val_acc: 0.8498 - lr: 9.0000e-05\n",
      "Epoch 30/100\n",
      "628/628 [==============================] - 13s 21ms/step - loss: 0.5790 - acc: 0.9225 - val_loss: 0.8345 - val_acc: 0.8553 - lr: 9.0000e-05\n",
      "Epoch 31/100\n",
      "628/628 [==============================] - 14s 22ms/step - loss: 0.5601 - acc: 0.9253 - val_loss: 0.8211 - val_acc: 0.8548 - lr: 9.0000e-05\n",
      "Epoch 32/100\n",
      "628/628 [==============================] - 15s 24ms/step - loss: 0.5395 - acc: 0.9303 - val_loss: 0.8141 - val_acc: 0.8539 - lr: 9.0000e-05\n",
      "Epoch 33/100\n",
      "626/628 [============================>.] - ETA: 0s - loss: 0.5258 - acc: 0.9327\n",
      "Epoch 33: ReduceLROnPlateau reducing learning rate to 2.700000040931627e-05.\n",
      "628/628 [==============================] - 15s 24ms/step - loss: 0.5256 - acc: 0.9327 - val_loss: 0.8181 - val_acc: 0.8542 - lr: 9.0000e-05\n",
      "Epoch 34/100\n",
      "628/628 [==============================] - 15s 24ms/step - loss: 0.4981 - acc: 0.9406 - val_loss: 0.8116 - val_acc: 0.8586 - lr: 2.7000e-05\n",
      "Epoch 35/100\n",
      "628/628 [==============================] - 15s 24ms/step - loss: 0.4922 - acc: 0.9423 - val_loss: 0.8073 - val_acc: 0.8605 - lr: 2.7000e-05\n",
      "Epoch 36/100\n",
      "628/628 [==============================] - 15s 24ms/step - loss: 0.4822 - acc: 0.9458 - val_loss: 0.8080 - val_acc: 0.8603 - lr: 2.7000e-05\n",
      "Epoch 37/100\n",
      "628/628 [==============================] - 15s 24ms/step - loss: 0.4784 - acc: 0.9443 - val_loss: 0.8041 - val_acc: 0.8579 - lr: 2.7000e-05\n",
      "Epoch 38/100\n",
      "628/628 [==============================] - 15s 24ms/step - loss: 0.4720 - acc: 0.9458 - val_loss: 0.8013 - val_acc: 0.8610 - lr: 2.7000e-05\n",
      "Epoch 39/100\n",
      "628/628 [==============================] - 15s 24ms/step - loss: 0.4704 - acc: 0.9469 - val_loss: 0.7957 - val_acc: 0.8616 - lr: 2.7000e-05\n",
      "Epoch 40/100\n",
      "628/628 [==============================] - 15s 24ms/step - loss: 0.4575 - acc: 0.9492 - val_loss: 0.7999 - val_acc: 0.8595 - lr: 2.7000e-05\n",
      "Epoch 41/100\n",
      "628/628 [==============================] - 15s 24ms/step - loss: 0.4542 - acc: 0.9507 - val_loss: 0.7967 - val_acc: 0.8629 - lr: 2.7000e-05\n",
      "Epoch 42/100\n",
      "628/628 [==============================] - 15s 24ms/step - loss: 0.4516 - acc: 0.9502 - val_loss: 0.7964 - val_acc: 0.8609 - lr: 2.7000e-05\n",
      "Epoch 43/100\n",
      "628/628 [==============================] - 15s 24ms/step - loss: 0.4432 - acc: 0.9522 - val_loss: 0.7938 - val_acc: 0.8606 - lr: 2.7000e-05\n",
      "Epoch 44/100\n",
      "626/628 [============================>.] - ETA: 0s - loss: 0.4399 - acc: 0.9534\n",
      "Epoch 44: ReduceLROnPlateau reducing learning rate to 1e-05.\n",
      "628/628 [==============================] - 15s 24ms/step - loss: 0.4400 - acc: 0.9533 - val_loss: 0.7897 - val_acc: 0.8614 - lr: 2.7000e-05\n",
      "Epoch 45/100\n",
      "628/628 [==============================] - 15s 24ms/step - loss: 0.4313 - acc: 0.9553 - val_loss: 0.7889 - val_acc: 0.8616 - lr: 1.0000e-05\n",
      "Epoch 46/100\n",
      "628/628 [==============================] - 15s 24ms/step - loss: 0.4311 - acc: 0.9550 - val_loss: 0.7884 - val_acc: 0.8618 - lr: 1.0000e-05\n"
     ]
    }
   ],
   "source": [
    "from keras.callbacks import EarlyStopping, ModelCheckpoint, ReduceLROnPlateau\n",
    "\n",
    "learning_rate_reduction = ReduceLROnPlateau(\n",
    "    monitor='val_acc', \n",
    "    patience=3, \n",
    "    verbose=1, \n",
    "    factor=0.3, \n",
    "    min_lr=0.00001)\n",
    "\n",
    "early_stop = EarlyStopping(monitor='val_acc', \n",
    "                           patience=5, \n",
    "                           restore_best_weights=True)\n",
    "model_checkpoint = ModelCheckpoint('models/S01/checkpoints/S02-best_model.h5', save_best_only=True)\n",
    "\n",
    "history = model.fit(\n",
    "    train_dataset,\n",
    "    epochs=100,\n",
    "    validation_data=validation_dataset,\n",
    "    callbacks=[early_stop, model_checkpoint, learning_rate_reduction])"
   ]
  },
  {
   "cell_type": "markdown",
   "metadata": {},
   "source": [
    "## Save Model"
   ]
  },
  {
   "cell_type": "code",
   "execution_count": 7,
   "metadata": {},
   "outputs": [
    {
     "name": "stderr",
     "output_type": "stream",
     "text": [
      "/tmp/ipykernel_158744/1442927073.py:6: UserWarning: You are saving your model as an HDF5 file via `model.save()`. This file format is considered legacy. We recommend using instead the native Keras format, e.g. `model.save('my_model.keras')`.\n",
      "  keras.models.save_model(model, 'models/S02-model_' + date + '.h5')\n"
     ]
    }
   ],
   "source": [
    "import datetime\n",
    "import time\n",
    "\n",
    "date = datetime.datetime.now().strftime(\"%Y-%m-%d_%H-%M-%S\")\n",
    "\n",
    "keras.models.save_model(model, 'models/S02-model_' + date + '.h5')"
   ]
  },
  {
   "cell_type": "markdown",
   "metadata": {},
   "source": [
    "# **EVALUATE**"
   ]
  },
  {
   "cell_type": "markdown",
   "metadata": {},
   "source": [
    "## Evaluate the model on the validation dataset."
   ]
  },
  {
   "cell_type": "code",
   "execution_count": 8,
   "metadata": {},
   "outputs": [
    {
     "name": "stdout",
     "output_type": "stream",
     "text": [
      "157/157 [==============================] - 1s 7ms/step - loss: 0.7967 - acc: 0.8629\n",
      "val_acc: 0.8629000186920166\n"
     ]
    }
   ],
   "source": [
    "val_loss, val_acc = model.evaluate(validation_dataset)\n",
    "print('val_acc:', val_acc)"
   ]
  },
  {
   "cell_type": "markdown",
   "metadata": {},
   "source": [
    "## Training and Validation Curves\n",
    "Plot the training and validation accuracy and loss curves."
   ]
  },
  {
   "cell_type": "code",
   "execution_count": 9,
   "metadata": {},
   "outputs": [
    {
     "data": {
      "image/png": "[encoded data removed]",
      "text/plain": [
       "<Figure size 640x480 with 1 Axes>"
      ]
     },
     "metadata": {},
     "output_type": "display_data"
    },
    {
     "data": {
      "image/png": "[encoded data removed]",
      "text/plain": [
       "<Figure size 640x480 with 1 Axes>"
      ]
     },
     "metadata": {},
     "output_type": "display_data"
    }
   ],
   "source": [
    "\n",
    "import matplotlib.pyplot as plt\n",
    "\n",
    "# Extract the history from the training process\n",
    "acc = history.history['acc']\n",
    "val_acc = history.history['val_acc']\n",
    "loss = history.history['loss']\n",
    "val_loss = history.history['val_loss']\n",
    "epochs = range(1, len(acc) + 1)\n",
    "\n",
    "# Plot the training and validation accuracy\n",
    "plt.plot(epochs, acc, 'bo', label='Training acc')\n",
    "plt.plot(epochs, val_acc, 'b', label='Validation acc')\n",
    "plt.title('Training and validation accuracy')\n",
    "plt.legend()\n",
    "\n",
    "# Plot the training and validation loss\n",
    "plt.figure()\n",
    "plt.plot(epochs, loss, 'bo', label='Training loss')\n",
    "plt.plot(epochs, val_loss, 'b', label='Validation loss')\n",
    "plt.title('Training and validation loss')\n",
    "plt.legend()\n",
    "plt.show()"
   ]
  },
  {
   "cell_type": "markdown",
   "metadata": {},
   "source": [
    "## Confusion Matrix"
   ]
  },
  {
   "cell_type": "code",
   "execution_count": 10,
   "metadata": {},
   "outputs": [
    {
     "name": "stdout",
     "output_type": "stream",
     "text": [
      "2/2 [==============================] - 0s 2ms/step\n",
      "2/2 [==============================] - 0s 2ms/step\n",
      "2/2 [==============================] - 0s 2ms/step\n",
      "2/2 [==============================] - 0s 3ms/step\n",
      "2/2 [==============================] - 0s 2ms/step\n",
      "2/2 [==============================] - 0s 2ms/step\n",
      "2/2 [==============================] - 0s 4ms/step\n",
      "2/2 [==============================] - 0s 4ms/step\n",
      "2/2 [==============================] - 0s 4ms/step\n",
      "2/2 [==============================] - 0s 3ms/step\n",
      "2/2 [==============================] - 0s 4ms/step\n",
      "2/2 [==============================] - 0s 3ms/step\n",
      "2/2 [==============================] - 0s 3ms/step\n",
      "2/2 [==============================] - 0s 3ms/step\n",
      "2/2 [==============================] - 0s 2ms/step\n",
      "2/2 [==============================] - 0s 3ms/step\n",
      "2/2 [==============================] - 0s 3ms/step\n",
      "2/2 [==============================] - 0s 3ms/step\n",
      "2/2 [==============================] - 0s 3ms/step\n",
      "2/2 [==============================] - 0s 3ms/step\n",
      "2/2 [==============================] - 0s 3ms/step\n",
      "2/2 [==============================] - 0s 4ms/step\n",
      "2/2 [==============================] - 0s 3ms/step\n",
      "2/2 [==============================] - 0s 3ms/step\n",
      "2/2 [==============================] - 0s 4ms/step\n",
      "2/2 [==============================] - 0s 2ms/step\n",
      "2/2 [==============================] - 0s 3ms/step\n",
      "2/2 [==============================] - 0s 11ms/step\n",
      "2/2 [==============================] - 0s 3ms/step\n",
      "2/2 [==============================] - 0s 3ms/step\n",
      "2/2 [==============================] - 0s 2ms/step\n",
      "2/2 [==============================] - 0s 3ms/step\n",
      "2/2 [==============================] - 0s 2ms/step\n",
      "2/2 [==============================] - 0s 2ms/step\n",
      "2/2 [==============================] - 0s 2ms/step\n",
      "2/2 [==============================] - 0s 2ms/step\n",
      "2/2 [==============================] - 0s 2ms/step\n",
      "2/2 [==============================] - 0s 3ms/step\n",
      "2/2 [==============================] - 0s 3ms/step\n",
      "2/2 [==============================] - 0s 3ms/step\n",
      "2/2 [==============================] - 0s 2ms/step\n",
      "2/2 [==============================] - 0s 4ms/step\n",
      "2/2 [==============================] - 0s 2ms/step\n",
      "2/2 [==============================] - 0s 3ms/step\n",
      "2/2 [==============================] - 0s 2ms/step\n",
      "2/2 [==============================] - 0s 4ms/step\n",
      "2/2 [==============================] - 0s 2ms/step\n",
      "2/2 [==============================] - 0s 5ms/step\n",
      "2/2 [==============================] - 0s 3ms/step\n",
      "2/2 [==============================] - 0s 3ms/step\n",
      "2/2 [==============================] - 0s 2ms/step\n",
      "2/2 [==============================] - 0s 2ms/step\n",
      "2/2 [==============================] - 0s 4ms/step\n",
      "2/2 [==============================] - 0s 3ms/step\n",
      "2/2 [==============================] - 0s 3ms/step\n",
      "2/2 [==============================] - 0s 3ms/step\n",
      "2/2 [==============================] - 0s 3ms/step\n",
      "2/2 [==============================] - 0s 2ms/step\n",
      "2/2 [==============================] - 0s 4ms/step\n",
      "2/2 [==============================] - 0s 2ms/step\n",
      "2/2 [==============================] - 0s 2ms/step\n",
      "2/2 [==============================] - 0s 3ms/step\n",
      "2/2 [==============================] - 0s 3ms/step\n",
      "2/2 [==============================] - 0s 2ms/step\n",
      "2/2 [==============================] - 0s 2ms/step\n",
      "2/2 [==============================] - 0s 3ms/step\n",
      "2/2 [==============================] - 0s 3ms/step\n",
      "2/2 [==============================] - 0s 3ms/step\n",
      "2/2 [==============================] - 0s 3ms/step\n",
      "2/2 [==============================] - 0s 4ms/step\n",
      "2/2 [==============================] - 0s 2ms/step\n",
      "2/2 [==============================] - 0s 2ms/step\n",
      "2/2 [==============================] - 0s 3ms/step\n",
      "2/2 [==============================] - 0s 2ms/step\n",
      "2/2 [==============================] - 0s 3ms/step\n",
      "2/2 [==============================] - 0s 4ms/step\n",
      "2/2 [==============================] - 0s 2ms/step\n",
      "2/2 [==============================] - 0s 3ms/step\n",
      "2/2 [==============================] - 0s 3ms/step\n",
      "2/2 [==============================] - 0s 3ms/step\n",
      "2/2 [==============================] - 0s 3ms/step\n",
      "2/2 [==============================] - 0s 3ms/step\n",
      "2/2 [==============================] - 0s 3ms/step\n",
      "2/2 [==============================] - 0s 3ms/step\n",
      "2/2 [==============================] - 0s 3ms/step\n",
      "2/2 [==============================] - 0s 3ms/step\n",
      "2/2 [==============================] - 0s 2ms/step\n",
      "2/2 [==============================] - 0s 2ms/step\n",
      "2/2 [==============================] - 0s 2ms/step\n",
      "2/2 [==============================] - 0s 2ms/step\n",
      "2/2 [==============================] - 0s 3ms/step\n",
      "2/2 [==============================] - 0s 3ms/step\n",
      "2/2 [==============================] - 0s 4ms/step\n",
      "2/2 [==============================] - 0s 3ms/step\n",
      "2/2 [==============================] - 0s 3ms/step\n",
      "2/2 [==============================] - 0s 2ms/step\n",
      "2/2 [==============================] - 0s 2ms/step\n",
      "2/2 [==============================] - 0s 3ms/step\n",
      "2/2 [==============================] - 0s 5ms/step\n",
      "2/2 [==============================] - 0s 3ms/step\n",
      "2/2 [==============================] - 0s 3ms/step\n",
      "2/2 [==============================] - 0s 3ms/step\n",
      "2/2 [==============================] - 0s 2ms/step\n",
      "2/2 [==============================] - 0s 2ms/step\n",
      "2/2 [==============================] - 0s 3ms/step\n",
      "2/2 [==============================] - 0s 2ms/step\n",
      "2/2 [==============================] - 0s 3ms/step\n",
      "2/2 [==============================] - 0s 3ms/step\n",
      "2/2 [==============================] - 0s 2ms/step\n",
      "2/2 [==============================] - 0s 2ms/step\n",
      "2/2 [==============================] - 0s 3ms/step\n",
      "2/2 [==============================] - 0s 3ms/step\n",
      "2/2 [==============================] - 0s 2ms/step\n",
      "2/2 [==============================] - 0s 2ms/step\n",
      "2/2 [==============================] - 0s 3ms/step\n",
      "2/2 [==============================] - 0s 2ms/step\n",
      "2/2 [==============================] - 0s 2ms/step\n",
      "2/2 [==============================] - 0s 3ms/step\n",
      "2/2 [==============================] - 0s 3ms/step\n",
      "2/2 [==============================] - 0s 3ms/step\n",
      "2/2 [==============================] - 0s 2ms/step\n",
      "2/2 [==============================] - 0s 2ms/step\n",
      "2/2 [==============================] - 0s 2ms/step\n",
      "2/2 [==============================] - 0s 2ms/step\n",
      "2/2 [==============================] - 0s 3ms/step\n",
      "2/2 [==============================] - 0s 3ms/step\n",
      "2/2 [==============================] - 0s 2ms/step\n",
      "2/2 [==============================] - 0s 2ms/step\n",
      "2/2 [==============================] - 0s 3ms/step\n",
      "2/2 [==============================] - 0s 3ms/step\n",
      "2/2 [==============================] - 0s 3ms/step\n",
      "2/2 [==============================] - 0s 2ms/step\n",
      "2/2 [==============================] - 0s 2ms/step\n",
      "2/2 [==============================] - 0s 3ms/step\n",
      "2/2 [==============================] - 0s 3ms/step\n",
      "2/2 [==============================] - 0s 2ms/step\n",
      "2/2 [==============================] - 0s 3ms/step\n",
      "2/2 [==============================] - 0s 3ms/step\n",
      "2/2 [==============================] - 0s 4ms/step\n",
      "2/2 [==============================] - 0s 3ms/step\n",
      "2/2 [==============================] - 0s 2ms/step\n",
      "2/2 [==============================] - 0s 4ms/step\n",
      "2/2 [==============================] - 0s 3ms/step\n",
      "2/2 [==============================] - 0s 3ms/step\n",
      "2/2 [==============================] - 0s 6ms/step\n",
      "2/2 [==============================] - 0s 3ms/step\n",
      "2/2 [==============================] - 0s 2ms/step\n",
      "2/2 [==============================] - 0s 3ms/step\n",
      "2/2 [==============================] - 0s 3ms/step\n",
      "2/2 [==============================] - 0s 3ms/step\n",
      "2/2 [==============================] - 0s 2ms/step\n",
      "2/2 [==============================] - 0s 3ms/step\n",
      "2/2 [==============================] - 0s 2ms/step\n",
      "2/2 [==============================] - 0s 4ms/step\n",
      "2/2 [==============================] - 0s 2ms/step\n",
      "2/2 [==============================] - 0s 2ms/step\n",
      "1/1 [==============================] - 0s 98ms/step\n"
     ]
    }
   ],
   "source": [
    "# confusion matrix\n",
    "\n",
    "import numpy as np\n",
    "from sklearn.metrics import confusion_matrix\n",
    "\n",
    "# Generate predictions\n",
    "y_pred = []\n",
    "y_true = []\n",
    "\n",
    "for images, labels in validation_dataset:\n",
    "    predictions = model.predict(images)\n",
    "    y_pred.extend(np.argmax(predictions, axis=1))  # Predicted labels\n",
    "    y_true.extend(np.argmax(labels, axis=1))       # True labels\n",
    "\n",
    "# Compute confusion matrix\n",
    "conf_matrix = confusion_matrix(y_true, y_pred)"
   ]
  },
  {
   "cell_type": "code",
   "execution_count": 11,
   "metadata": {},
   "outputs": [
    {
     "name": "stdout",
     "output_type": "stream",
     "text": [
      "Confusion Matrix:\n",
      "[[878   8  33  13   8   5   7   4  44  14]\n",
      " [  7 945   4   4   1   2   2   2  16  31]\n",
      " [ 32   1 765  35  52  18  31  12   5   1]\n",
      " [ 12   0  41 760  31 102  46  11   9   4]\n",
      " [  9   0  30  29 862  22  19  18   7   1]\n",
      " [  7   1  21 132  32 797  12  22   0   1]\n",
      " [  5   1  22  33   8   6 901   0   3   1]\n",
      " [  6   1  16  32  39  27   3 847   0   6]\n",
      " [ 20   5   3   2   4   1   6   1 956   5]\n",
      " [ 19  37   8   8   3   4   2   4  19 918]]\n"
     ]
    }
   ],
   "source": [
    "# Display the confusion matrix\n",
    "print(\"Confusion Matrix:\")\n",
    "print(conf_matrix)"
   ]
  },
  {
   "cell_type": "code",
   "execution_count": 12,
   "metadata": {},
   "outputs": [
    {
     "data": {
      "image/png": "[encoded data removed]",
      "text/plain": [
       "<Figure size 800x600 with 2 Axes>"
      ]
     },
     "metadata": {},
     "output_type": "display_data"
    }
   ],
   "source": [
    "\n",
    "from matplotlib.colors import LinearSegmentedColormap\n",
    "\n",
    "# Custom colormap\n",
    "colors = ['#ecf0f1', '#008751']\n",
    "cmap = LinearSegmentedColormap.from_list('custom_cmap', colors, N=256, gamma=0.5)\n",
    "\n",
    "plt.figure(figsize=(8, 6))\n",
    "plt.imshow(conf_matrix, interpolation='nearest', cmap=cmap)\n",
    "plt.title('Confusion Matrix')\n",
    "plt.colorbar()\n",
    "tick_marks = np.arange(len(validation_dataset.class_names))\n",
    "plt.xticks(tick_marks, validation_dataset.class_names, rotation=45)\n",
    "plt.yticks(tick_marks, validation_dataset.class_names)\n",
    "plt.tight_layout()\n",
    "plt.ylabel('True label')\n",
    "plt.xlabel('Predicted label')\n",
    "plt.show()"
   ]
  },
  {
   "cell_type": "code",
   "execution_count": 13,
   "metadata": {},
   "outputs": [
    {
     "name": "stdout",
     "output_type": "stream",
     "text": [
      "                precision    recall  f1-score   support\n",
      "\n",
      "  000_airplane       0.88      0.87      0.87      1014\n",
      "001_automobile       0.95      0.93      0.94      1014\n",
      "      002_bird       0.81      0.80      0.81       952\n",
      "       003_cat       0.73      0.75      0.74      1016\n",
      "      004_deer       0.83      0.86      0.85       997\n",
      "       005_dog       0.81      0.78      0.79      1025\n",
      "      006_frog       0.88      0.92      0.90       980\n",
      "     007_horse       0.92      0.87      0.89       977\n",
      "      008_ship       0.90      0.95      0.93      1003\n",
      "     009_truck       0.93      0.90      0.92      1022\n",
      "\n",
      "      accuracy                           0.86     10000\n",
      "     macro avg       0.86      0.86      0.86     10000\n",
      "  weighted avg       0.86      0.86      0.86     10000\n",
      "\n"
     ]
    }
   ],
   "source": [
    "# classification report\n",
    "from sklearn.metrics import classification_report\n",
    "\n",
    "# use previously generated predictions\n",
    "report = classification_report(y_true, y_pred, target_names=validation_dataset.class_names)\n",
    "print(report)"
   ]
  },
  {
   "cell_type": "markdown",
   "metadata": {},
   "source": [
    "## Predictions\n",
    "\n",
    "Predict and visualize the results for a sample image."
   ]
  },
  {
   "cell_type": "code",
   "execution_count": 14,
   "metadata": {},
   "outputs": [
    {
     "data": {
      "image/png": "[encoded data removed]",
      "text/plain": [
       "<Figure size 640x480 with 1 Axes>"
      ]
     },
     "metadata": {},
     "output_type": "display_data"
    },
    {
     "name": "stdout",
     "output_type": "stream",
     "text": [
      "(1, 32, 32, 3)\n",
      "1/1 [==============================] - 0s 242ms/step\n",
      "Result:  [[0. 0. 0. 0. 0. 0. 1. 0. 0. 0.]]\n"
     ]
    }
   ],
   "source": [
    "import tensorflow as tf\n",
    "import matplotlib.pyplot as plt\n",
    "from keras.preprocessing import image\n",
    "\n",
    "# Load an image\n",
    "img = tf.keras.preprocessing.image.load_img(train_dirs[0] + '/006_frog/alytes_obstetricans_s_000179.png', target_size=(32, 32), interpolation='bilinear')\n",
    "# img = tf.keras.preprocessing.image.load_img(train_dirs[0] + '/000_airplane/airbus_s_000012.png', target_size=(32, 32), interpolation='bilinear')\n",
    "\n",
    "# Preprocess the image\n",
    "img_array = image.img_to_array(img)\n",
    "img_array = tf.expand_dims(img_array, 0)\n",
    "\n",
    "plt.imshow(img)\n",
    "plt.show()\n",
    "\n",
    "print(img_array.shape)\n",
    "result = model.predict(img_array)\n",
    "print(\"Result: \", result.round())"
   ]
  }
 ],
 "metadata": {
  "kernelspec": {
   "display_name": "Python 3",
   "language": "python",
   "name": "python3"
  },
  "language_info": {
   "codemirror_mode": {
    "name": "ipython",
    "version": 3
   },
   "file_extension": ".py",
   "mimetype": "text/x-python",
   "name": "python",
   "nbconvert_exporter": "python",
   "pygments_lexer": "ipython3",
   "version": "3.11.4"
  }
 },
 "nbformat": 4,
 "nbformat_minor": 2
}
